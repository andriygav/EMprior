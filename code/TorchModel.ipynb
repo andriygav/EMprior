{
 "cells": [
  {
   "cell_type": "code",
   "execution_count": 1,
   "metadata": {},
   "outputs": [],
   "source": [
    "import numpy as np\n",
    "\n",
    "import matplotlib.pyplot as plt"
   ]
  },
  {
   "cell_type": "code",
   "execution_count": 2,
   "metadata": {},
   "outputs": [],
   "source": [
    "import torch\n",
    "import torch.nn as nn\n",
    "import torch.nn.functional as F\n",
    "\n",
    "from torch.utils.data import DataLoader\n",
    "\n",
    "from torch.utils.data import Dataset"
   ]
  },
  {
   "cell_type": "code",
   "execution_count": 3,
   "metadata": {},
   "outputs": [],
   "source": [
    "from sklearn.utils import shuffle\n",
    "from scipy.special import softmax"
   ]
  },
  {
   "cell_type": "code",
   "execution_count": 4,
   "metadata": {},
   "outputs": [],
   "source": [
    "plt.rcParams['figure.figsize'] = (8.0, 8.0)"
   ]
  },
  {
   "cell_type": "code",
   "execution_count": 5,
   "metadata": {},
   "outputs": [],
   "source": [
    "class TorchDataset(Dataset):\n",
    "    def __init__(self, X, Y, device = 'cpu', X_type = torch.FloatTensor, Y_type = torch.FloatTensor):\n",
    "        super(TorchDataset, self).__init__()\n",
    "        self.X = X_type(X).to(device)\n",
    "        self.Y = Y_type(Y).view([-1, 1]).to(device)\n",
    "        self.len = X.shape[0]\n",
    "\n",
    "    def __len__(self):\n",
    "        return self.len\n",
    "\n",
    "    def __getitem__(self, index):\n",
    "        return self.X[index], self.Y[index]"
   ]
  },
  {
   "cell_type": "code",
   "execution_count": 6,
   "metadata": {},
   "outputs": [],
   "source": [
    "class HyperModelNN(nn.Module):\n",
    "    def __init__(self, input_dim = 20, hidden_dim = 10, output_dim = 10, device = 'cpu'):\n",
    "        super(HyperModelNN, self).__init__()\n",
    "        \n",
    "        self.input_dim = input_dim\n",
    "        self.hidden_dim = hidden_dim\n",
    "        self.output_dim = output_dim\n",
    "        \n",
    "        self.linear1 = nn.Linear(input_dim, hidden_dim)\n",
    "        self.linear2 = nn.Linear(hidden_dim, hidden_dim)\n",
    "        self.linear3 = nn.Linear(hidden_dim, output_dim)\n",
    "        \n",
    "        self.to(device)\n",
    "        \n",
    "    def forward(self, input):\n",
    "        out = input\n",
    "        out = self.linear1(input)\n",
    "        out = F.relu(out)\n",
    "        out = self.linear2(out)\n",
    "        out = F.relu(out)\n",
    "        out = self.linear3(out)\n",
    "        return out\n",
    "        "
   ]
  },
  {
   "cell_type": "code",
   "execution_count": 225,
   "metadata": {},
   "outputs": [],
   "source": [
    "class MixtureExpert:\n",
    "    def __init__(self, n = 10, K = 2, beta = 1, HyperModel = None, device = 'cpu'):\n",
    "        self.K = K\n",
    "        self.n = n\n",
    "        self.device = device\n",
    "        \n",
    "        self.beta = beta\n",
    "        self.W = torch.randn(self.K, self.n, device = self.device)\n",
    "        if HyperModel is None:\n",
    "            self.HyperModel = HyperModelNN(input_dim = n, hidden_dim = 10, output_dim = K, device = device)\n",
    "        else:\n",
    "            self.HyperModel = HyperModel\n",
    "        self.pZ = None\n",
    "        \n",
    "    def E_step(self, X, Y):\n",
    "        N = X.shape[0]\n",
    "        X_tr = torch.torch.FloatTensor(X)\n",
    "        Y_tr = torch.torch.FloatTensor(Y)\n",
    "        self.pZ = torch.zeros(N, self.K, device = self.device)\n",
    "        for i in range(N):\n",
    "            x = X_tr[i]\n",
    "            y = Y_tr[i]\n",
    "            self.pZ[i] = torch.nn.functional.softmax(torch.nn.functional.log_softmax(self.HyperModel(x), dim = -1) - 0.5*self.beta*((y - self.W@x)**2), dim=0).detach()\n",
    "    \n",
    "    def M_step(self, X, Y):\n",
    "        N = X.shape[0]\n",
    "        X_tr = torch.torch.FloatTensor(X)\n",
    "        Y_tr = torch.torch.FloatTensor(Y)\n",
    "# Optimize W\n",
    "        for k in range(self.K):\n",
    "            temp1 = 0\n",
    "            temp2 = 0\n",
    "            for i in range(N):\n",
    "                x = X_tr[i]\n",
    "                y = Y_tr[i]\n",
    "                z = self.pZ[i][k]\n",
    "                temp1 += x.view([-1, 1])@x.view([1, -1])*z\n",
    "                temp2 += y*z*x\n",
    "            self.W[k] = (torch.inverse(temp1)@temp2.view([-1, 1])).view([-1]).detach()\n",
    "\n",
    "# Optimize \\beta\n",
    "        temp = float(((((Y_tr.view([-1, 1]) - X_tr@model.W.transpose(0,1))**2)*Z).sum()).detach())\n",
    "        self.beta = N/float((temp + 0.0001))\n",
    "            \n",
    "# Optimize V\n",
    "        optimizer = torch.optim.Adam(self.HyperModel.parameters())\n",
    "        dataset = TorchDataset(X_tr, self.pZ, device = device, X_type = torch.FloatTensor, Y_type = torch.FloatTensor)\n",
    "        for _ in range(10):\n",
    "            train_generator = DataLoader(dataset = dataset, batch_size = 16, shuffle=True)\n",
    "            for it, (batch_of_x, batch_of_y) in enumerate(train_generator):\n",
    "                self.HyperModel.zero_grad()\n",
    "                loss = -(torch.nn.functional.log_softmax(self.HyperModel(X_tr), dim = -1)*self.pZ).sum()\n",
    "                loss.backward()\n",
    "                optimizer.step()\n",
    "                \n",
    "    def fit(self, X = None, Y = None, epoch = 10):\n",
    "        \"\"\"\n",
    "        X has a shape [N x n]\n",
    "        Y has a shape [n]\n",
    "        \"\"\"\n",
    "        if X is None:\n",
    "            return None\n",
    "        if y is None:\n",
    "            return None\n",
    "        \n",
    "        for _ in range(epoch):\n",
    "            self.E_step(X, Y)\n",
    "            self.M_step(X, Y)\n",
    "            \n",
    "        return\n",
    "    \n",
    "    def predict(self, X):\n",
    "        \"\"\"\n",
    "        X has a shape [N x n]\n",
    "        \"\"\"\n",
    "        X_tr = torch.torch.FloatTensor(X)\n",
    "        pi = torch.nn.functional.softmax(self.HyperModel(X_tr), dim = -1).detach()\n",
    "        \n",
    "        answ = (X_tr@self.W.transpose(0, 1)).detach()\n",
    "        \n",
    "        return (answ*pi).sum(dim = -1).data.numpy()\n",
    "    "
   ]
  },
  {
   "cell_type": "code",
   "execution_count": 226,
   "metadata": {},
   "outputs": [],
   "source": [
    "N = 500\n",
    "n = 3\n",
    "r1 = 1\n",
    "r2 = 4\n",
    "phi = np.linspace(0, 2*np.pi, N)\n",
    "x = np.hstack([r1*np.sin(phi), r2*np.sin(phi)]) + 0.1*np.random.randn(2*N)\n",
    "y = np.hstack([r1*np.cos(phi), r2*np.cos(phi)]) + 0.1*np.random.randn(2*N)\n",
    "# x, y = shuffle(x, y)\n",
    "\n",
    "X = np.vstack([2*x, 2*y, np.ones_like(x)]).T\n",
    "Y = x**2+y**2"
   ]
  },
  {
   "cell_type": "code",
   "execution_count": 227,
   "metadata": {},
   "outputs": [
    {
     "data": {
      "text/plain": [
       "((1000, 3), (1000,))"
      ]
     },
     "execution_count": 227,
     "metadata": {},
     "output_type": "execute_result"
    }
   ],
   "source": [
    "X.shape, Y.shape"
   ]
  },
  {
   "cell_type": "code",
   "execution_count": 228,
   "metadata": {},
   "outputs": [
    {
     "data": {
      "image/png": "[encoded data removed]",
      "text/plain": [
       "<Figure size 576x576 with 1 Axes>"
      ]
     },
     "metadata": {},
     "output_type": "display_data"
    }
   ],
   "source": [
    "_ = plt.plot(x, y, '.')\n",
    "\n",
    "plt.grid()\n",
    "plt.show()"
   ]
  },
  {
   "cell_type": "code",
   "execution_count": 229,
   "metadata": {},
   "outputs": [
    {
     "data": {
      "text/plain": [
       "device(type='cpu')"
      ]
     },
     "execution_count": 229,
     "metadata": {},
     "output_type": "execute_result"
    }
   ],
   "source": [
    "device = torch.device(\"cuda\" if torch.cuda.is_available() else \"cpu\")\n",
    "device"
   ]
  },
  {
   "cell_type": "code",
   "execution_count": 230,
   "metadata": {},
   "outputs": [],
   "source": [
    "K = 2\n",
    "\n",
    "HpMd = HyperModelNN(input_dim = n, hidden_dim = 5, output_dim = K, device = device)\n",
    "model = MixtureExpert(n = n, K = K, beta = 1, HyperModel = HpMd, device = device)"
   ]
  },
  {
   "cell_type": "code",
   "execution_count": 256,
   "metadata": {},
   "outputs": [
    {
     "name": "stdout",
     "output_type": "stream",
     "text": [
      "CPU times: user 3.07 s, sys: 44.6 ms, total: 3.11 s\n",
      "Wall time: 3.13 s\n"
     ]
    }
   ],
   "source": [
    "%%time\n",
    "model.fit(X, Y, 5)"
   ]
  },
  {
   "cell_type": "code",
   "execution_count": 257,
   "metadata": {
    "scrolled": true
   },
   "outputs": [
    {
     "name": "stdout",
     "output_type": "stream",
     "text": [
      "tensor([[7.8110e-17, 1.0000e+00],\n",
      "        [2.6651e-21, 1.0000e+00],\n",
      "        [2.7246e-10, 1.0000e+00],\n",
      "        ...,\n",
      "        [1.0000e+00, 1.0639e-15],\n",
      "        [1.0000e+00, 1.4598e-13],\n",
      "        [1.0000e+00, 1.6421e-18]])\n"
     ]
    }
   ],
   "source": [
    "print(model.pZ)"
   ]
  },
  {
   "cell_type": "code",
   "execution_count": 258,
   "metadata": {},
   "outputs": [
    {
     "name": "stdout",
     "output_type": "stream",
     "text": [
      "tensor([[-0.0096, -0.0347,  4.0923],\n",
      "        [-0.1037, -0.3825,  1.2440]])\n"
     ]
    }
   ],
   "source": [
    "print(model.W)"
   ]
  },
  {
   "cell_type": "code",
   "execution_count": 259,
   "metadata": {},
   "outputs": [
    {
     "name": "stdout",
     "output_type": "stream",
     "text": [
      "0.20224381604270134\n"
     ]
    }
   ],
   "source": [
    "print(model.beta)"
   ]
  },
  {
   "cell_type": "code",
   "execution_count": 260,
   "metadata": {},
   "outputs": [
    {
     "data": {
      "text/plain": [
       "0.37799995103703365"
      ]
     },
     "execution_count": 260,
     "metadata": {},
     "output_type": "execute_result"
    }
   ],
   "source": [
    "((model.predict(X)-Y)**2).mean()"
   ]
  },
  {
   "cell_type": "code",
   "execution_count": 261,
   "metadata": {},
   "outputs": [
    {
     "data": {
      "image/png": "[encoded data removed]",
      "text/plain": [
       "<Figure size 576x576 with 1 Axes>"
      ]
     },
     "metadata": {},
     "output_type": "display_data"
    }
   ],
   "source": [
    "idx = np.argmax(model.pZ.data.numpy(), axis = 1)\n",
    "for i in np.unique(idx):\n",
    "    _ = plt.plot(x[idx == i], y[idx == i], '.')\n",
    "\n",
    "plt.grid()\n",
    "plt.show()"
   ]
  },
  {
   "cell_type": "code",
   "execution_count": null,
   "metadata": {},
   "outputs": [],
   "source": []
  }
 ],
 "metadata": {
  "kernelspec": {
   "display_name": "Python 3",
   "language": "python",
   "name": "python3"
  },
  "language_info": {
   "codemirror_mode": {
    "name": "ipython",
    "version": 3
   },
   "file_extension": ".py",
   "mimetype": "text/x-python",
   "name": "python",
   "nbconvert_exporter": "python",
   "pygments_lexer": "ipython3",
   "version": "3.6.2"
  }
 },
 "nbformat": 4,
 "nbformat_minor": 2
}
