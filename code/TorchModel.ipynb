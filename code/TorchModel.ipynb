{
 "cells": [
  {
   "cell_type": "code",
   "execution_count": 1,
   "metadata": {},
   "outputs": [],
   "source": [
    "import numpy as np\n",
    "\n",
    "import matplotlib.pyplot as plt"
   ]
  },
  {
   "cell_type": "code",
   "execution_count": 2,
   "metadata": {},
   "outputs": [],
   "source": [
    "from tqdm import tqdm as tqdm"
   ]
  },
  {
   "cell_type": "code",
   "execution_count": 3,
   "metadata": {},
   "outputs": [],
   "source": [
    "import torch\n",
    "import torch.nn as nn\n",
    "import torch.nn.functional as F\n",
    "\n",
    "from torch.utils.data import DataLoader\n",
    "\n",
    "from torch.utils.data import Dataset"
   ]
  },
  {
   "cell_type": "code",
   "execution_count": 4,
   "metadata": {},
   "outputs": [],
   "source": [
    "from sklearn.utils import shuffle\n",
    "from scipy.special import softmax"
   ]
  },
  {
   "cell_type": "code",
   "execution_count": 5,
   "metadata": {},
   "outputs": [],
   "source": [
    "plt.rcParams['figure.figsize'] = (8.0, 8.0)"
   ]
  },
  {
   "cell_type": "code",
   "execution_count": 6,
   "metadata": {},
   "outputs": [],
   "source": [
    "class TorchDataset(Dataset):\n",
    "    def __init__(self, X, Y, device = 'cpu', X_type = torch.FloatTensor, Y_type = torch.FloatTensor):\n",
    "        super(TorchDataset, self).__init__()\n",
    "        self.X = X_type(X).to(device)\n",
    "        self.Y = Y_type(Y).view([-1, 1]).to(device)\n",
    "        self.len = X.shape[0]\n",
    "\n",
    "    def __len__(self):\n",
    "        return self.len\n",
    "\n",
    "    def __getitem__(self, index):\n",
    "        return self.X[index], self.Y[index]"
   ]
  },
  {
   "cell_type": "code",
   "execution_count": 7,
   "metadata": {},
   "outputs": [],
   "source": [
    "class HyperModelNN(nn.Module):\n",
    "    def __init__(self, input_dim = 20, hidden_dim = 10, output_dim = 10, device = 'cpu'):\n",
    "        super(HyperModelNN, self).__init__()\n",
    "        \n",
    "        self.input_dim = input_dim\n",
    "        self.output_dim = output_dim\n",
    "        \n",
    "        self.linear1 = nn.Linear(input_dim, hidden_dim)\n",
    "#         self.linear2 = nn.Linear(hidden_dim, hidden_dim)\n",
    "        self.linear3 = nn.Linear(hidden_dim, output_dim)\n",
    "        \n",
    "        self.to(device)\n",
    "        \n",
    "    def forward(self, input):\n",
    "        out = input\n",
    "        out = self.linear1(out)\n",
    "        out = F.relu(out)\n",
    "#         out = self.linear2(out)\n",
    "#         out = F.relu(out)\n",
    "        out = self.linear3(out)\n",
    "        return out\n",
    "        "
   ]
  },
  {
   "cell_type": "code",
   "execution_count": 8,
   "metadata": {},
   "outputs": [],
   "source": [
    "class MixtureExpert:\n",
    "    def __init__(self, n = 10, K = 2, beta = 1, HyperModel = None, device = 'cpu'):\n",
    "        self.K = K\n",
    "        self.n = n\n",
    "        self.device = device\n",
    "        \n",
    "        self.beta = beta\n",
    "        self.W = torch.randn(self.K, self.n, device = self.device)\n",
    "        if HyperModel is None:\n",
    "            self.HyperModel = HyperModelNN(input_dim = n, hidden_dim = 10, output_dim = K, device = device)\n",
    "        else:\n",
    "            self.HyperModel = HyperModel\n",
    "        self.pZ = None\n",
    "        \n",
    "        self.state = dict()\n",
    "        \n",
    "        self.state['V'] = dict()\n",
    "        self.state['V']['optimizer'] = torch.optim.Adam(self.HyperModel.parameters())\n",
    "        \n",
    "    def E_step(self, X, Y):\n",
    "        N = X.shape[0]\n",
    "        X_tr = torch.torch.FloatTensor(X)\n",
    "        Y_tr = torch.torch.FloatTensor(Y)\n",
    "        self.pZ = torch.zeros(N, self.K, device = self.device)\n",
    "        for i in range(N):\n",
    "            x = X_tr[i]\n",
    "            y = Y_tr[i]\n",
    "            self.pZ[i] = torch.nn.functional.softmax(torch.nn.functional.log_softmax(self.HyperModel(x), dim = -1) - 0.5*self.beta*((y - self.W@x)**2), dim=0).detach()\n",
    "    \n",
    "    def M_step(self, X, Y):\n",
    "        N = X.shape[0]\n",
    "        X_tr = torch.torch.FloatTensor(X)\n",
    "        Y_tr = torch.torch.FloatTensor(Y)\n",
    "# Optimize W\n",
    "        for k in range(self.K):\n",
    "            temp1 = 0\n",
    "            temp2 = 0\n",
    "            for i in range(N):\n",
    "                x = X_tr[i]\n",
    "                y = Y_tr[i]\n",
    "                z = self.pZ[i][k]\n",
    "                temp1 += x.view([-1, 1])@x.view([1, -1])*z\n",
    "                temp2 += y*z*x\n",
    "            self.W[k] = (torch.inverse(temp1)@temp2.view([-1, 1])).view([-1]).detach()\n",
    "\n",
    "# Optimize \\beta\n",
    "        temp = float(((((Y_tr.view([-1, 1]) - X_tr@model.W.transpose(0,1))**2)*self.pZ).sum()).detach())\n",
    "        self.beta = N/float((temp + 0.0001))\n",
    "            \n",
    "# Optimize V\n",
    "        param_state = self.state['V']\n",
    "        optimizer = param_state['optimizer']\n",
    "        dataset = TorchDataset(X_tr, self.pZ, device = device, X_type = torch.FloatTensor, Y_type = torch.FloatTensor)\n",
    "        for _ in range(10):\n",
    "            train_generator = DataLoader(dataset = dataset, batch_size = 16, shuffle=True)\n",
    "            for it, (batch_of_x, batch_of_y) in enumerate(train_generator):\n",
    "                self.HyperModel.zero_grad()\n",
    "                loss = -(torch.nn.functional.log_softmax(self.HyperModel(batch_of_x), dim = -1)*batch_of_y).sum()\n",
    "                loss.backward()\n",
    "                optimizer.step()\n",
    "                \n",
    "    def fit(self, X = None, Y = None, epoch = 10, progress = None):\n",
    "        \"\"\"\n",
    "        X has a shape [N x n]\n",
    "        Y has a shape [n]\n",
    "        \"\"\"\n",
    "        if X is None:\n",
    "            return None\n",
    "        if y is None:\n",
    "            return None\n",
    "        \n",
    "\n",
    "        \n",
    "        iterations = range(epoch)\n",
    "        \n",
    "        if progress is not None:\n",
    "            iterations = progress(iterations)\n",
    "        \n",
    "        for _ in iterations:\n",
    "            self.E_step(X, Y)\n",
    "            self.M_step(X, Y)\n",
    "            \n",
    "        return\n",
    "    \n",
    "    def predict(self, X):\n",
    "        \"\"\"\n",
    "        X has a shape [N x n]\n",
    "        \"\"\"\n",
    "        X_tr = torch.torch.FloatTensor(X)\n",
    "        pi = torch.nn.functional.softmax(self.HyperModel(X_tr), dim = -1).detach()\n",
    "        \n",
    "        answ = (X_tr@self.W.transpose(0, 1)).detach()\n",
    "        \n",
    "        return (answ*pi).sum(dim = -1).data.numpy()\n",
    "    "
   ]
  },
  {
   "cell_type": "markdown",
   "metadata": {},
   "source": [
    "# Experiment"
   ]
  },
  {
   "cell_type": "code",
   "execution_count": 9,
   "metadata": {},
   "outputs": [],
   "source": [
    "np.random.seed(0)"
   ]
  },
  {
   "cell_type": "code",
   "execution_count": 10,
   "metadata": {},
   "outputs": [],
   "source": [
    "N = 50\n",
    "n = 3\n",
    "r1 = 2\n",
    "r2 = 10\n",
    "phi = np.linspace(0, 2*np.pi, N)\n",
    "x = np.hstack([r1*np.sin(phi), r2*np.sin(phi)]) + 0.0*np.random.randn(2*N)\n",
    "y = np.hstack([r1*np.cos(phi), r2*np.cos(phi)]) + 0.0*np.random.randn(2*N)\n",
    "# x, y = shuffle(x, y)\n",
    "\n",
    "X = np.vstack([2*x, 2*y, np.ones_like(x)]).T\n",
    "Y = x**2+y**2"
   ]
  },
  {
   "cell_type": "code",
   "execution_count": 11,
   "metadata": {},
   "outputs": [
    {
     "data": {
      "text/plain": [
       "((100, 3), (100,))"
      ]
     },
     "execution_count": 11,
     "metadata": {},
     "output_type": "execute_result"
    }
   ],
   "source": [
    "X.shape, Y.shape"
   ]
  },
  {
   "cell_type": "code",
   "execution_count": 12,
   "metadata": {},
   "outputs": [
    {
     "data": {
      "image/png": "[encoded data removed]",
      "text/plain": [
       "<Figure size 576x576 with 1 Axes>"
      ]
     },
     "metadata": {},
     "output_type": "display_data"
    }
   ],
   "source": [
    "_ = plt.plot(x, y, '.')\n",
    "\n",
    "plt.grid()\n",
    "plt.show()"
   ]
  },
  {
   "cell_type": "code",
   "execution_count": 13,
   "metadata": {},
   "outputs": [
    {
     "data": {
      "text/plain": [
       "device(type='cpu')"
      ]
     },
     "execution_count": 13,
     "metadata": {},
     "output_type": "execute_result"
    }
   ],
   "source": [
    "device = torch.device(\"cuda\" if torch.cuda.is_available() else \"cpu\")\n",
    "device"
   ]
  },
  {
   "cell_type": "code",
   "execution_count": 14,
   "metadata": {},
   "outputs": [],
   "source": [
    "K = 2\n",
    "\n",
    "HpMd = HyperModelNN(input_dim = n, hidden_dim = 3, output_dim = K, device = device)\n",
    "model = MixtureExpert(n = n, K = K, beta = 1, HyperModel = HpMd, device = device)"
   ]
  },
  {
   "cell_type": "code",
   "execution_count": 15,
   "metadata": {},
   "outputs": [
    {
     "name": "stderr",
     "output_type": "stream",
     "text": [
      "100%|██████████| 100/100 [00:04<00:00, 20.04it/s]"
     ]
    },
    {
     "name": "stdout",
     "output_type": "stream",
     "text": [
      "CPU times: user 4.66 s, sys: 146 ms, total: 4.81 s\n",
      "Wall time: 4.99 s\n"
     ]
    },
    {
     "name": "stderr",
     "output_type": "stream",
     "text": [
      "\n"
     ]
    }
   ],
   "source": [
    "%%time\n",
    "model.fit(X, Y, 100, progress = tqdm)"
   ]
  },
  {
   "cell_type": "code",
   "execution_count": 16,
   "metadata": {
    "scrolled": true
   },
   "outputs": [
    {
     "name": "stdout",
     "output_type": "stream",
     "text": [
      "tensor([[1., 0.],\n",
      "        [1., 0.],\n",
      "        [1., 0.],\n",
      "        [1., 0.],\n",
      "        [1., 0.],\n",
      "        [1., 0.],\n",
      "        [1., 0.],\n",
      "        [1., 0.],\n",
      "        [1., 0.],\n",
      "        [1., 0.]])\n"
     ]
    }
   ],
   "source": [
    "print(model.pZ[:10, :])"
   ]
  },
  {
   "cell_type": "code",
   "execution_count": 17,
   "metadata": {},
   "outputs": [
    {
     "name": "stdout",
     "output_type": "stream",
     "text": [
      "tensor([[ 8.3267e-17,  3.7253e-09,  4.0000e+00],\n",
      "        [-1.3819e-07, -3.8743e-07,  1.0000e+02]])\n"
     ]
    }
   ],
   "source": [
    "print(model.W)"
   ]
  },
  {
   "cell_type": "code",
   "execution_count": 18,
   "metadata": {},
   "outputs": [],
   "source": [
    "CIRCLE = model.W.data.numpy()"
   ]
  },
  {
   "cell_type": "code",
   "execution_count": 19,
   "metadata": {},
   "outputs": [
    {
     "data": {
      "text/plain": [
       "array([[ 8.3266727e-17,  3.7252903e-09,  3.9999998e+00],\n",
       "       [-1.3818546e-07, -3.8743019e-07,  1.0000000e+02]], dtype=float32)"
      ]
     },
     "execution_count": 19,
     "metadata": {},
     "output_type": "execute_result"
    }
   ],
   "source": [
    "CIRCLE"
   ]
  },
  {
   "cell_type": "code",
   "execution_count": 20,
   "metadata": {},
   "outputs": [
    {
     "name": "stdout",
     "output_type": "stream",
     "text": [
      "999979.5993131673\n"
     ]
    }
   ],
   "source": [
    "print(model.beta)"
   ]
  },
  {
   "cell_type": "code",
   "execution_count": 21,
   "metadata": {},
   "outputs": [
    {
     "data": {
      "text/plain": [
       "2303.999992675816"
      ]
     },
     "execution_count": 21,
     "metadata": {},
     "output_type": "execute_result"
    }
   ],
   "source": [
    "((model.predict(X)-Y)**2).mean()"
   ]
  },
  {
   "cell_type": "code",
   "execution_count": 22,
   "metadata": {},
   "outputs": [
    {
     "data": {
      "image/png": "[encoded data removed]",
      "text/plain": [
       "<Figure size 576x576 with 1 Axes>"
      ]
     },
     "metadata": {},
     "output_type": "display_data"
    }
   ],
   "source": [
    "idx = np.argmax(model.pZ.data.numpy(), axis = 1)\n",
    "t = np.linspace(0, 2*np.pi, 100)\n",
    "\n",
    "colors = ['orange', 'green', 'red', 'yelow', 'blue']\n",
    "\n",
    "for i in np.unique(idx):\n",
    "    _ = plt.plot(x[idx == i], y[idx == i], '.', color = colors[i])\n",
    "    \n",
    "    param = CIRCLE[i]\n",
    "    x0, y0 = param[:2]\n",
    "    r = (param[2] - param[1]**2 - param[0]**2)**0.5\n",
    "    x_plot = x0 + r*np.sin(t)\n",
    "    y_plot = y0 + r*np.cos(t)\n",
    "    \n",
    "    _ = plt.plot(x_plot, y_plot, '-', color = colors[i])\n",
    "    \n",
    "plt.grid()\n",
    "plt.show()"
   ]
  },
  {
   "cell_type": "code",
   "execution_count": null,
   "metadata": {},
   "outputs": [],
   "source": []
  }
 ],
 "metadata": {
  "kernelspec": {
   "display_name": "Python 3",
   "language": "python",
   "name": "python3"
  },
  "language_info": {
   "codemirror_mode": {
    "name": "ipython",
    "version": 3
   },
   "file_extension": ".py",
   "mimetype": "text/x-python",
   "name": "python",
   "nbconvert_exporter": "python",
   "pygments_lexer": "ipython3",
   "version": "3.6.2"
  }
 },
 "nbformat": 4,
 "nbformat_minor": 2
}
