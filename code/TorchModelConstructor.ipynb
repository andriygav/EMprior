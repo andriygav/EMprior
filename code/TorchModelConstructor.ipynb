{
 "cells": [
  {
   "cell_type": "code",
   "execution_count": 1,
   "metadata": {},
   "outputs": [],
   "source": [
    "import numpy as np\n",
    "\n",
    "import matplotlib.pyplot as plt"
   ]
  },
  {
   "cell_type": "code",
   "execution_count": 2,
   "metadata": {},
   "outputs": [],
   "source": [
    "from tqdm import tqdm_notebook as tqdm"
   ]
  },
  {
   "cell_type": "code",
   "execution_count": 3,
   "metadata": {},
   "outputs": [],
   "source": [
    "import torch\n",
    "import torch.nn as nn\n",
    "import torch.nn.functional as F\n",
    "\n",
    "from torch.utils.data import DataLoader\n",
    "\n",
    "from torch.utils.data import Dataset"
   ]
  },
  {
   "cell_type": "code",
   "execution_count": 4,
   "metadata": {},
   "outputs": [],
   "source": [
    "from sklearn.utils import shuffle\n",
    "from scipy.special import softmax"
   ]
  },
  {
   "cell_type": "code",
   "execution_count": 5,
   "metadata": {},
   "outputs": [],
   "source": [
    "plt.rcParams['figure.figsize'] = (8.0, 8.0)"
   ]
  },
  {
   "cell_type": "code",
   "execution_count": 6,
   "metadata": {},
   "outputs": [],
   "source": [
    "class TorchDataset(Dataset):\n",
    "    def __init__(self, X, Y, device = 'cpu'):\n",
    "        super(TorchDataset, self).__init__()\n",
    "        self.X = torch.FloatTensor(X).to(device)\n",
    "        self.Y = torch.FloatTensor(Y).to(device)\n",
    "        self.len = X.shape[0]\n",
    "\n",
    "    def __len__(self):\n",
    "        return self.len\n",
    "\n",
    "    def __getitem__(self, index):\n",
    "        return self.X[index], self.Y[index]"
   ]
  },
  {
   "cell_type": "code",
   "execution_count": 7,
   "metadata": {},
   "outputs": [],
   "source": [
    "class HyperModelNN(nn.Module):\n",
    "    def __init__(self, input_dim = 20, hidden_dim = 10, output_dim = 10, device = 'cpu'):\n",
    "        super(HyperModelNN, self).__init__()\n",
    "        \n",
    "        self.input_dim = input_dim\n",
    "        self.output_dim = output_dim\n",
    "        self.device = device\n",
    "        \n",
    "        self.linear1 = nn.Linear(input_dim, hidden_dim)\n",
    "        self.linear2 = nn.Linear(hidden_dim, output_dim)\n",
    "        \n",
    "        self.optimizer = torch.optim.Adam(self.parameters())\n",
    "        \n",
    "        self.to(device)\n",
    "        \n",
    "    def forward(self, input):\n",
    "        out = input\n",
    "        out = self.linear1(out)\n",
    "        out = F.relu(out)\n",
    "        out = self.linear2(out)\n",
    "        return out\n",
    "    \n",
    "    def E_step(self, X, Y, Z, HyperParameters):\n",
    "        pass\n",
    "    \n",
    "    def M_step(self, X, Y, Z, HyperParameters):\n",
    "        dataset = TorchDataset(X, Z, device = self.device)\n",
    "        \n",
    "        for _ in range(10):\n",
    "            train_generator = DataLoader(dataset = dataset, batch_size = 16, shuffle=True)\n",
    "            for it, (batch_of_x, batch_of_y) in enumerate(train_generator):\n",
    "                self.zero_grad()\n",
    "                loss = -(torch.nn.functional.log_softmax(self.forward(batch_of_x), dim = -1)*batch_of_y).sum()\n",
    "                loss.backward()\n",
    "                self.optimizer.step()\n",
    "        pass\n",
    "        "
   ]
  },
  {
   "cell_type": "code",
   "execution_count": 314,
   "metadata": {},
   "outputs": [],
   "source": [
    "class NoiseModel:\n",
    "    def __init__(self, input_dim = 20, device = 'cpu'):\n",
    "        self.input_dim = input_dim\n",
    "        self.device = device\n",
    "        \n",
    "        self.W = torch.zeros(input_dim, 1, device = self.device)\n",
    "        \n",
    "    def forward(self, input):\n",
    "        return torch.randn([input.shape[0], 1])\n",
    "     \n",
    "    def __call__(self, input):\n",
    "        return self.forward(input)\n",
    "    \n",
    "    def OptimizeHyperParameters(self, X, Y, Z, HyperParameters, Parameter):\n",
    "        \"\"\"\n",
    "        X is a tensor of shape [N x n]\n",
    "        Y is a tensor of shape [N x 1]\n",
    "        Z is a tensor of shape [N x 1]\n",
    "        HyperParameters is a dictionary\n",
    "        Parameter is a Key in dictionary\n",
    "        \"\"\"\n",
    "        return 0\n",
    "    \n",
    "    def LogLikeLihoodExpectation(self, X, Y, HyperParameters):\n",
    "        \"\"\"\n",
    "        X is a tensor of shape [N x n]\n",
    "        Y is a tensor of shape [N x 1]\n",
    "        Z is a tensor of shape [N x 1]\n",
    "        \"\"\"\n",
    "        return -2*torch.ones_like(Y)\n",
    "        \n",
    "    def E_step(self, X, Y, Z, HyperParameters):\n",
    "        \"\"\"\n",
    "        X is a tensor of shape [N x n]\n",
    "        Y is a tensor of shape [N x 1]\n",
    "        Z is a tensor of shape [N x 1]\n",
    "        \"\"\"\n",
    "        pass\n",
    "    \n",
    "    def M_step(self, X, Y, Z, HyperParameters):\n",
    "        \"\"\"\n",
    "        X is a tensor of shape [N x n]\n",
    "        Y is a tensor of shape [N x 1]\n",
    "        Z is a tensor of shape [N x 1]\n",
    "        \"\"\"\n",
    "        pass"
   ]
  },
  {
   "cell_type": "code",
   "execution_count": 315,
   "metadata": {},
   "outputs": [],
   "source": [
    "class EachModelLinear:\n",
    "    def __init__(self, input_dim = 20, device = 'cpu', a = None):\n",
    "        self.input_dim = input_dim\n",
    "        self.device = device\n",
    "        \n",
    "        self.a = a\n",
    "\n",
    "        self.W = torch.randn(input_dim, 1, device = self.device)\n",
    "        self.B = torch.randn(input_dim, input_dim, device = self.device)\n",
    "\n",
    "        \n",
    "    def forward(self, input):\n",
    "        return input@self.W\n",
    "    \n",
    "    def __call__(self, input):\n",
    "        return self.forward(input)\n",
    "    \n",
    "    def OptimizeHyperParameters(self, X, Y, Z, HyperParameters, Parameter):\n",
    "        \"\"\"\n",
    "        X is a tensor of shape [N x n]\n",
    "        Y is a tensor of shape [N x 1]\n",
    "        Z is a tensor of shape [N x 1]\n",
    "        HyperParameters is a dictionary\n",
    "        Parameter is a Key in dictionary\n",
    "        \"\"\"\n",
    "        if Parameter == 'beta':\n",
    "            temp1 = Y**2\n",
    "            temp2 = -2*Y*(X@self.W)\n",
    "            temp3 = torch.diagonal(X@(self.B+self.W@self.W.transpose(0,1))@X.transpose(0,1)).view([-1, 1])\n",
    "            return ((temp1 + temp2 + temp3)*Z).mean().detach()\n",
    "        \n",
    "    def LogLikeLihoodExpectation(self, X, Y, HyperParameters):\n",
    "        \"\"\"\n",
    "        X is a tensor of shape [N x n]\n",
    "        Y is a tensor of shape [N x 1]\n",
    "        HyperParameters is a dictionary\n",
    "        \"\"\"\n",
    "        beta = 1./(HyperParameters['beta'] + 0.000001)\n",
    "        temp1 = Y**2\n",
    "        temp2 = -2*Y*(X@self.W)\n",
    "        temp3 = torch.diagonal(X@(self.B+self.W@self.W.transpose(0,1))@X.transpose(0,1)).view([-1, 1])\n",
    "        return (-0.5*beta*(temp1 + temp2 + temp3) + 0.5*np.log(beta/(2*np.pi))).detach()\n",
    "        \n",
    "\n",
    "    def E_step(self, X, Y, Z, HyperParameters):\n",
    "        \"\"\"\n",
    "        X is a tensor of shape [N x n]\n",
    "        Y is a tensor of shape [N x 1]\n",
    "        Z is a tensor of shape [N x 1]\n",
    "        HyperParameters is a dictionary\n",
    "        \"\"\"\n",
    "        beta = 1./(HyperParameters['beta'] + 0.000001)\n",
    "        temp = X.unsqueeze(2)\n",
    "        if self.a is None:\n",
    "            self.B = torch.inverse(((temp*Z.unsqueeze(1))@temp.transpose(2, 1)).sum(dim = 0)).detach()\n",
    "            second = (X*Y*Z).sum(dim = 0)\n",
    "            self.W.data = (self.B@second).view_as(self.W).detach()\n",
    "        else:\n",
    "            self.B = torch.inverse(torch.diag(1/self.a) + beta*((temp*Z.unsqueeze(1))@temp.transpose(2, 1)).sum(dim = 0)).detach()\n",
    "            second = (X*Y*Z).sum(dim = 0)\n",
    "            self.W.data = beta*(self.B@second).view_as(self.W).detach()\n",
    "        return\n",
    "\n",
    "    def M_step(self, X, Y, Z, HyperParameters):\n",
    "        \"\"\"\n",
    "        X is a tensor of shape [N x n]\n",
    "        Y is a tensor of shape [N x 1]\n",
    "        Z is a tensor of shape [N x 1]\n",
    "        HyperParameters is a dictionary\n",
    "        \"\"\"\n",
    "        if self.a is not None:\n",
    "            self.a = torch.diagonal(self.B+self.W@self.W.transpose(0,1))\n",
    "        return\n",
    "        "
   ]
  },
  {
   "cell_type": "code",
   "execution_count": 316,
   "metadata": {},
   "outputs": [],
   "source": [
    "class MixtureExpert:\n",
    "    def __init__(self, input_dim = 10, K = 2, HyperParameters = {'beta': 1}, HyperModel = None, ListOfModels = None, device = 'cpu'):\n",
    "        \"\"\"\n",
    "        It's necessary! The Hyper Parameter should be additive to models.\n",
    "        \"\"\"\n",
    "        \n",
    "        self.K = K\n",
    "        self.n = input_dim\n",
    "        self.device = device\n",
    "        \n",
    "        self.HyperParameters = HyperParameters\n",
    "        \n",
    "        if HyperModel is None:\n",
    "            self.HyperModel = HyperModelNN(input_dim = input_dim, hidden_dim = 10, output_dim = K, device = device)\n",
    "        else:\n",
    "            self.HyperModel = HyperModel\n",
    "            \n",
    "        if ListOfModels is None:\n",
    "            self.ListOfModels = [EachModelLinear(input_dim = input_dim, device = device) for _ in range(K)]\n",
    "        else:\n",
    "            self.ListOfModels = ListOfModels\n",
    "        \n",
    "        self.pZ = None\n",
    "        return\n",
    "        \n",
    "    def E_step(self, X, Y):\n",
    "# Optimize Z\n",
    "        temp1 = torch.nn.functional.log_softmax(self.HyperModel(X), dim = -1)\n",
    "        temp2 = torch.cat([self.ListOfModels[k].LogLikeLihoodExpectation(X, Y, self.HyperParameters) for k in range(self.K)], dim = 1)\n",
    "        self.pZ = torch.nn.functional.softmax(temp1 + temp2, dim=-1).detach()\n",
    "    \n",
    "# Optimize each model\n",
    "        for k in range(self.K):\n",
    "            self.ListOfModels[k].E_step(X, Y, self.pZ[:,k].view([-1, 1]), self.HyperParameters)\n",
    "            \n",
    "# Optimize HyperModel\n",
    "        self.HyperModel.E_step(X, Y, self.pZ, self.HyperParameters)\n",
    "        return\n",
    "        \n",
    "    def M_step(self, X, Y):\n",
    "# Optimize EachModel\n",
    "        for k in range(self.K):\n",
    "            self.ListOfModels[k].M_step(X, Y, self.pZ[:, k].view([-1, 1]), self.HyperParameters)\n",
    "            \n",
    "# Optimize HyperParameters\n",
    "        for Parameter in self.HyperParameters:\n",
    "            temp = 0\n",
    "            for k in range(self.K):\n",
    "                temp += self.ListOfModels[k].OptimizeHyperParameters(X, Y, self.pZ[:, k].view([-1, 1]), self.HyperParameters, Parameter)\n",
    "            self.HyperParameters[Parameter] = temp.detach()\n",
    "        \n",
    "# Optimize HyperModel\n",
    "        self.HyperModel.M_step(X, Y, self.pZ, self.HyperParameters)\n",
    "        return\n",
    "                \n",
    "    def fit(self, X = None, Y = None, epoch = 10, progress = None):\n",
    "        \"\"\"\n",
    "        X has a shape [N x n]\n",
    "        Y has a shape [n x p]\n",
    "        \"\"\"\n",
    "        if X is None:\n",
    "            return None\n",
    "        if y is None:\n",
    "            return None\n",
    "        \n",
    "        iterations = range(epoch)\n",
    "        \n",
    "        if progress is not None:\n",
    "            iterations = progress(iterations)\n",
    "        \n",
    "        for _ in iterations:\n",
    "            self.E_step(X, Y)\n",
    "            self.M_step(X, Y)\n",
    "            \n",
    "        return\n",
    "    \n",
    "    def predict(self, X):\n",
    "        \"\"\"\n",
    "        X has a shape [N x n]\n",
    "        \"\"\"\n",
    "        pi = torch.nn.functional.softmax(self.HyperModel(X), dim = -1).detach()\n",
    "        answ = torch.cat([self.ListOfModels[k](X) for k in range(self.K)], dim = 1).detach()\n",
    "        \n",
    "        return (answ*pi).sum(dim = -1).data.numpy()\n",
    "    "
   ]
  },
  {
   "cell_type": "markdown",
   "metadata": {},
   "source": [
    "# Experiment"
   ]
  },
  {
   "cell_type": "code",
   "execution_count": 317,
   "metadata": {},
   "outputs": [],
   "source": [
    "N = 50\n",
    "n = 3\n",
    "r1 = 0.5\n",
    "r2 = 1\n",
    "phi = np.linspace(0, 2*np.pi, N)\n",
    "x = np.hstack([r1*np.sin(phi), r2*np.sin(phi), np.random.randn(10)]) #+ 0.05*np.random.randn(2*N)\n",
    "y = np.hstack([r1*np.cos(phi), r2*np.cos(phi), np.random.randn(10)])\n",
    "\n",
    "X = np.vstack([2*x, 2*y, np.ones_like(x)]).T\n",
    "Y = x**2+y**2"
   ]
  },
  {
   "cell_type": "code",
   "execution_count": 318,
   "metadata": {},
   "outputs": [],
   "source": [
    "X_tr = torch.FloatTensor(X)\n",
    "Y_tr = torch.FloatTensor(Y).view([-1,1])"
   ]
  },
  {
   "cell_type": "code",
   "execution_count": 319,
   "metadata": {},
   "outputs": [
    {
     "data": {
      "text/plain": [
       "(torch.Size([110, 3]), torch.Size([110, 1]))"
      ]
     },
     "execution_count": 319,
     "metadata": {},
     "output_type": "execute_result"
    }
   ],
   "source": [
    "X_tr.shape, Y_tr.shape"
   ]
  },
  {
   "cell_type": "code",
   "execution_count": 320,
   "metadata": {},
   "outputs": [
    {
     "data": {
      "image/png": "[encoded data removed]",
      "text/plain": [
       "<Figure size 576x576 with 1 Axes>"
      ]
     },
     "metadata": {},
     "output_type": "display_data"
    }
   ],
   "source": [
    "_ = plt.plot(x, y, '.')\n",
    "\n",
    "plt.grid()\n",
    "plt.show()"
   ]
  },
  {
   "cell_type": "code",
   "execution_count": 321,
   "metadata": {},
   "outputs": [
    {
     "data": {
      "text/plain": [
       "device(type='cpu')"
      ]
     },
     "execution_count": 321,
     "metadata": {},
     "output_type": "execute_result"
    }
   ],
   "source": [
    "device = torch.device(\"cuda\" if torch.cuda.is_available() else \"cpu\")\n",
    "device"
   ]
  },
  {
   "cell_type": "code",
   "execution_count": 336,
   "metadata": {},
   "outputs": [],
   "source": [
    "K = 2\n",
    "HpMd = HyperModelNN(input_dim = n, hidden_dim = 3, output_dim = K, device = device)\n",
    "\n",
    "LoM = []\n",
    "for _ in range(K):\n",
    "    LoM.append(EachModelLinear(input_dim = n, device = device, a = torch.ones(3)))\n",
    "\n",
    "# K += 1\n",
    "# LoM.append(NoiseModel(input_dim = n))\n",
    "\n",
    "HypPar = {'beta': 1}\n",
    "    \n",
    "model = MixtureExpert(input_dim = n, K = K, HyperParameters = HypPar, HyperModel = HpMd, ListOfModels = LoM, device = device)\n"
   ]
  },
  {
   "cell_type": "code",
   "execution_count": 337,
   "metadata": {},
   "outputs": [
    {
     "name": "stdout",
     "output_type": "stream",
     "text": [
      "tensor([1., 1., 1.])\n"
     ]
    }
   ],
   "source": [
    "print(LoM[0].a)"
   ]
  },
  {
   "cell_type": "code",
   "execution_count": 338,
   "metadata": {},
   "outputs": [
    {
     "data": {
      "application/vnd.jupyter.widget-view+json": {
       "model_id": "52ecd766a7014350bf88c67b738bc656",
       "version_major": 2,
       "version_minor": 0
      },
      "text/plain": [
       "HBox(children=(IntProgress(value=0), HTML(value='')))"
      ]
     },
     "metadata": {},
     "output_type": "display_data"
    },
    {
     "name": "stdout",
     "output_type": "stream",
     "text": [
      "CPU times: user 3.21 s, sys: 113 ms, total: 3.32 s\n",
      "Wall time: 3.47 s\n"
     ]
    }
   ],
   "source": [
    "%%time\n",
    "model.fit(X_tr, Y_tr, 100, progress = tqdm)"
   ]
  },
  {
   "cell_type": "code",
   "execution_count": 339,
   "metadata": {},
   "outputs": [
    {
     "name": "stdout",
     "output_type": "stream",
     "text": [
      "tensor([0.0081, 1.8444, 3.5857])\n"
     ]
    }
   ],
   "source": [
    "print(LoM[0].a)"
   ]
  },
  {
   "cell_type": "code",
   "execution_count": 340,
   "metadata": {},
   "outputs": [
    {
     "data": {
      "text/plain": [
       "{'beta': tensor(0.3640)}"
      ]
     },
     "execution_count": 340,
     "metadata": {},
     "output_type": "execute_result"
    }
   ],
   "source": [
    "model.HyperParameters"
   ]
  },
  {
   "cell_type": "code",
   "execution_count": 341,
   "metadata": {},
   "outputs": [
    {
     "data": {
      "text/plain": [
       "tensor(2.1255)"
      ]
     },
     "execution_count": 341,
     "metadata": {},
     "output_type": "execute_result"
    }
   ],
   "source": [
    "((model.predict(X_tr)-Y_tr)**2).mean()"
   ]
  },
  {
   "cell_type": "code",
   "execution_count": 342,
   "metadata": {},
   "outputs": [
    {
     "data": {
      "image/png": "[encoded data removed]",
      "text/plain": [
       "<Figure size 576x576 with 1 Axes>"
      ]
     },
     "metadata": {},
     "output_type": "display_data"
    }
   ],
   "source": [
    "idx = np.argmax(model.pZ.data.numpy(), axis = 1)\n",
    "t = np.linspace(0, 2*np.pi, 100)\n",
    "\n",
    "colors = ['orange', 'green', 'red', 'yelow', 'blue']\n",
    "\n",
    "for i in np.unique(idx):\n",
    "    _ = plt.plot(x[idx == i], y[idx == i], '.', color = colors[i])\n",
    "    \n",
    "plt.grid()\n",
    "plt.show()"
   ]
  },
  {
   "cell_type": "code",
   "execution_count": 343,
   "metadata": {},
   "outputs": [
    {
     "name": "stderr",
     "output_type": "stream",
     "text": [
      "/Library/Frameworks/Python.framework/Versions/3.6/lib/python3.6/site-packages/ipykernel_launcher.py:7: RuntimeWarning: invalid value encountered in double_scalars\n",
      "  import sys\n"
     ]
    },
    {
     "data": {
      "text/plain": [
       "array([[ 0.05740418,  1.3385214 ,         nan],\n",
       "       [ 0.15305075, -0.05504706,  0.8297335 ]], dtype=float32)"
      ]
     },
     "execution_count": 343,
     "metadata": {},
     "output_type": "execute_result"
    }
   ],
   "source": [
    "TEMP = np.array([m.W.data.numpy().reshape(-1) for m in model.ListOfModels])\n",
    "\n",
    "CIRCLE = np.zeros_like(TEMP)\n",
    "\n",
    "for i, param in enumerate(TEMP):\n",
    "    x0, y0 = param[:2]\n",
    "    r = (param[2] - param[1]**2 - param[0]**2)**0.5\n",
    "    CIRCLE[i] = x0, y0, r\n",
    "    \n",
    "CIRCLE"
   ]
  },
  {
   "cell_type": "code",
   "execution_count": 344,
   "metadata": {},
   "outputs": [
    {
     "data": {
      "image/png": "[encoded data removed]",
      "text/plain": [
       "<Figure size 576x576 with 1 Axes>"
      ]
     },
     "metadata": {},
     "output_type": "display_data"
    }
   ],
   "source": [
    "idx = np.argmax(model.pZ.data.numpy(), axis = 1)\n",
    "t = np.linspace(0, 2*np.pi, 100)\n",
    "\n",
    "colors = ['orange', 'green', 'red', 'yelow', 'blue']\n",
    "\n",
    "for i in np.unique(idx):\n",
    "    _ = plt.plot(x[idx == i], y[idx == i], '.', color = colors[i])\n",
    "    \n",
    "    x0, y0, r = CIRCLE[i]\n",
    "    x_plot = x0 + r*np.sin(t)\n",
    "    y_plot = y0 + r*np.cos(t)\n",
    "    \n",
    "    _ = plt.plot(x_plot, y_plot, '-', color = colors[i])\n",
    "    \n",
    "plt.grid()\n",
    "plt.show()"
   ]
  }
 ],
 "metadata": {
  "kernelspec": {
   "display_name": "Python 3",
   "language": "python",
   "name": "python3"
  },
  "language_info": {
   "codemirror_mode": {
    "name": "ipython",
    "version": 3
   },
   "file_extension": ".py",
   "mimetype": "text/x-python",
   "name": "python",
   "nbconvert_exporter": "python",
   "pygments_lexer": "ipython3",
   "version": "3.6.2"
  }
 },
 "nbformat": 4,
 "nbformat_minor": 2
}
