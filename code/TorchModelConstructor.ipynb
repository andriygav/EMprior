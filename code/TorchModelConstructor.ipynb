{
 "cells": [
  {
   "cell_type": "code",
   "execution_count": 1,
   "metadata": {},
   "outputs": [],
   "source": [
    "import numpy as np\n",
    "\n",
    "import matplotlib.pyplot as plt"
   ]
  },
  {
   "cell_type": "code",
   "execution_count": 2,
   "metadata": {},
   "outputs": [],
   "source": [
    "from tqdm import tqdm_notebook as tqdm"
   ]
  },
  {
   "cell_type": "code",
   "execution_count": 3,
   "metadata": {},
   "outputs": [],
   "source": [
    "import torch\n",
    "import torch.nn as nn\n",
    "import torch.nn.functional as F\n",
    "\n",
    "from torch.utils.data import DataLoader\n",
    "\n",
    "from torch.utils.data import Dataset"
   ]
  },
  {
   "cell_type": "code",
   "execution_count": 4,
   "metadata": {},
   "outputs": [],
   "source": [
    "from sklearn.utils import shuffle\n",
    "from scipy.special import softmax"
   ]
  },
  {
   "cell_type": "code",
   "execution_count": 5,
   "metadata": {},
   "outputs": [],
   "source": [
    "plt.rcParams['figure.figsize'] = (8.0, 8.0)"
   ]
  },
  {
   "cell_type": "code",
   "execution_count": 6,
   "metadata": {},
   "outputs": [],
   "source": [
    "class TorchDataset(Dataset):\n",
    "    def __init__(self, X, Y, device = 'cpu'):\n",
    "        super(TorchDataset, self).__init__()\n",
    "        self.X = torch.FloatTensor(X).to(device)\n",
    "        self.Y = torch.FloatTensor(Y).to(device)\n",
    "        self.len = X.shape[0]\n",
    "\n",
    "    def __len__(self):\n",
    "        return self.len\n",
    "\n",
    "    def __getitem__(self, index):\n",
    "        return self.X[index], self.Y[index]"
   ]
  },
  {
   "cell_type": "code",
   "execution_count": 7,
   "metadata": {},
   "outputs": [],
   "source": [
    "class HyperModelNN(nn.Module):\n",
    "    def __init__(self, input_dim = 20, hidden_dim = 10, output_dim = 10, device = 'cpu'):\n",
    "        super(HyperModelNN, self).__init__()\n",
    "        \n",
    "        self.input_dim = input_dim\n",
    "        self.output_dim = output_dim\n",
    "        self.device = device\n",
    "        \n",
    "        self.linear1 = nn.Linear(input_dim, hidden_dim)\n",
    "        self.linear2 = nn.Linear(hidden_dim, output_dim)\n",
    "        \n",
    "        self.optimizer = torch.optim.Adam(self.parameters())\n",
    "        \n",
    "        self.to(device)\n",
    "        \n",
    "    def forward(self, input):\n",
    "        out = input\n",
    "        out = self.linear1(out)\n",
    "        out = F.relu(out)\n",
    "        out = self.linear2(out)\n",
    "        return out\n",
    "    \n",
    "    def E_step(self, X, Y, Z, HyperParameters):\n",
    "        pass\n",
    "    \n",
    "    def M_step(self, X, Y, Z, HyperParameters):\n",
    "        dataset = TorchDataset(X, Z, device = self.device)\n",
    "        \n",
    "        for _ in range(10):\n",
    "            train_generator = DataLoader(dataset = dataset, batch_size = 16, shuffle=True)\n",
    "            for it, (batch_of_x, batch_of_y) in enumerate(train_generator):\n",
    "                self.zero_grad()\n",
    "                loss = -(torch.nn.functional.log_softmax(self.forward(batch_of_x), dim = -1)*batch_of_y).sum()\n",
    "                loss.backward()\n",
    "                self.optimizer.step()\n",
    "        pass\n",
    "        "
   ]
  },
  {
   "cell_type": "code",
   "execution_count": 8,
   "metadata": {},
   "outputs": [],
   "source": [
    "class NoiseModelLinear:\n",
    "    def __init__(self, input_dim = 20, device = 'cpu'):\n",
    "        self.input_dim = input_dim\n",
    "        self.device = device\n",
    "        \n",
    "        self.W = torch.zeros(input_dim, 1, device = self.device)\n",
    "        \n",
    "    def forward(self, input):\n",
    "        return torch.randn([input.shape[0], 1])\n",
    "     \n",
    "    def __call__(self, input):\n",
    "        return self.forward(input)\n",
    "    \n",
    "    def OptimizeHyperParameters(self, X, Y, Z, HyperParameters, Parameter):\n",
    "        \"\"\"\n",
    "        X is a tensor of shape [N x n]\n",
    "        Y is a tensor of shape [N x 1]\n",
    "        Z is a tensor of shape [N x 1]\n",
    "        HyperParameters is a dictionary\n",
    "        Parameter is a Key in dictionary\n",
    "        \"\"\"\n",
    "        if Parameter == 'beta':\n",
    "            temp1 = Y**2\n",
    "            return (temp1*Z).mean().detach()\n",
    "    \n",
    "    def LogLikeLihoodExpectation(self, X, Y, HyperParameters):\n",
    "        \"\"\"\n",
    "        X is a tensor of shape [N x n]\n",
    "        Y is a tensor of shape [N x 1]\n",
    "        Z is a tensor of shape [N x 1]\n",
    "        \"\"\"\n",
    "        beta = 1./(HyperParameters['beta'] + 0.000001)\n",
    "        temp1 = Y**2\n",
    "        return (-0.5*beta*(temp1) + 0.5*np.log(beta/(2*np.pi))).detach()\n",
    "        \n",
    "    def E_step(self, X, Y, Z, HyperParameters):\n",
    "        \"\"\"\n",
    "        X is a tensor of shape [N x n]\n",
    "        Y is a tensor of shape [N x 1]\n",
    "        Z is a tensor of shape [N x 1]\n",
    "        \"\"\"\n",
    "        pass\n",
    "    \n",
    "    def M_step(self, X, Y, Z, HyperParameters):\n",
    "        \"\"\"\n",
    "        X is a tensor of shape [N x n]\n",
    "        Y is a tensor of shape [N x 1]\n",
    "        Z is a tensor of shape [N x 1]\n",
    "        \"\"\"\n",
    "        pass"
   ]
  },
  {
   "cell_type": "code",
   "execution_count": 523,
   "metadata": {},
   "outputs": [],
   "source": [
    "class EachModelLinear:\n",
    "    def __init__(self, input_dim = 20, device = 'cpu', a = None):\n",
    "        self.input_dim = input_dim\n",
    "        self.device = device\n",
    "        \n",
    "        self.a = a\n",
    "\n",
    "        self.W = 10*torch.randn(input_dim, 1, device = self.device)\n",
    "        self.B = torch.eye(input_dim, device = self.device)\n",
    "\n",
    "        \n",
    "    def forward(self, input):\n",
    "        return input@self.W\n",
    "    \n",
    "    def __call__(self, input):\n",
    "        return self.forward(input)\n",
    "    \n",
    "    def OptimizeHyperParameters(self, X, Y, Z, HyperParameters, Parameter):\n",
    "        \"\"\"\n",
    "        X is a tensor of shape [N x n]\n",
    "        Y is a tensor of shape [N x 1]\n",
    "        Z is a tensor of shape [N x 1]\n",
    "        HyperParameters is a dictionary\n",
    "        Parameter is a Key in dictionary\n",
    "        \"\"\"\n",
    "        if Parameter == 'beta':\n",
    "            temp1 = Y**2\n",
    "            temp2 = -2*Y*(X@self.W)\n",
    "            temp3 = torch.diagonal(X@(self.B+self.W@self.W.transpose(0,1))@X.transpose(0,1)).view([-1, 1])\n",
    "            return ((temp1 + temp2 + temp3)*Z).mean().detach()\n",
    "        \n",
    "    def LogLikeLihoodExpectation(self, X, Y, HyperParameters):\n",
    "        \"\"\"\n",
    "        X is a tensor of shape [N x n]\n",
    "        Y is a tensor of shape [N x 1]\n",
    "        HyperParameters is a dictionary\n",
    "        \"\"\"\n",
    "        beta = 1./(HyperParameters['beta'] + 0.000001)\n",
    "        temp1 = Y**2\n",
    "        temp2 = -2*Y*(X@self.W)\n",
    "        temp3 = torch.diagonal(X@(self.B+self.W@self.W.transpose(0,1))@X.transpose(0,1)).view([-1, 1])\n",
    "        return (-0.5*beta*(temp1 + temp2 + temp3) + 0.5*np.log(beta/(2*np.pi))).detach()\n",
    "        \n",
    "\n",
    "    def E_step(self, X, Y, Z, HyperParameters):\n",
    "        \"\"\"\n",
    "        X is a tensor of shape [N x n]\n",
    "        Y is a tensor of shape [N x 1]\n",
    "        Z is a tensor of shape [N x 1]\n",
    "        HyperParameters is a dictionary\n",
    "        \"\"\"\n",
    "        beta = 1./(HyperParameters['beta'] + 0.000001)\n",
    "        temp = X.unsqueeze(2)\n",
    "        if self.a is None:\n",
    "            self.B = torch.inverse(((temp*Z.unsqueeze(1))@temp.transpose(2, 1)).sum(dim = 0)).detach()\n",
    "            second = (X*Y*Z).sum(dim = 0)\n",
    "            self.W.data = (self.B@second).view_as(self.W).detach()\n",
    "        else:\n",
    "            self.B = torch.inverse(torch.diag(1/self.a) + beta*((temp*Z.unsqueeze(1))@temp.transpose(2, 1)).sum(dim = 0)).detach()\n",
    "            second = (X*Y*Z).sum(dim = 0)\n",
    "            self.W.data = beta*(self.B@second).view_as(self.W).detach()\n",
    "        return\n",
    "\n",
    "    def M_step(self, X, Y, Z, HyperParameters):\n",
    "        \"\"\"\n",
    "        X is a tensor of shape [N x n]\n",
    "        Y is a tensor of shape [N x 1]\n",
    "        Z is a tensor of shape [N x 1]\n",
    "        HyperParameters is a dictionary\n",
    "        \"\"\"\n",
    "        if self.a is not None:\n",
    "            self.a = torch.diagonal(self.B+self.W@self.W.transpose(0,1)).detach()\n",
    "        return\n"
   ]
  },
  {
   "cell_type": "code",
   "execution_count": 524,
   "metadata": {},
   "outputs": [],
   "source": [
    "class NoiseModelKhi:\n",
    "    def __init__(self, input_dim = 20, device = 'cpu'):\n",
    "        self.input_dim = input_dim\n",
    "        self.device = device\n",
    "        \n",
    "        self.W = torch.zeros(input_dim, 1, device = self.device)\n",
    "        \n",
    "    def forward(self, input):\n",
    "        return torch.randn([input.shape[0], 1])\n",
    "     \n",
    "    def __call__(self, input):\n",
    "        return self.forward(input)\n",
    "    \n",
    "    def OptimizeHyperParameters(self, X, Y, Z, HyperParameters, Parameter):\n",
    "        \"\"\"\n",
    "        X is a tensor of shape [N x n]\n",
    "        Y is a tensor of shape [N x 1]\n",
    "        Z is a tensor of shape [N x 1]\n",
    "        HyperParameters is a dictionary\n",
    "        Parameter is a Key in dictionary\n",
    "        \"\"\"\n",
    "        if Parameter == 'beta':\n",
    "            temp1 = Y\n",
    "            return (0.5*temp1*Z).mean().detach()\n",
    "    \n",
    "    def LogLikeLihoodExpectation(self, X, Y, HyperParameters):\n",
    "        \"\"\"\n",
    "        X is a tensor of shape [N x n]\n",
    "        Y is a tensor of shape [N x 1]\n",
    "        Z is a tensor of shape [N x 1]\n",
    "        \"\"\"\n",
    "        beta = 1./(HyperParameters['beta'] + 0.000001)\n",
    "        temp1 = Y\n",
    "        return (-0.5*beta*(temp1) + np.log(0.5*beta)).detach()\n",
    "        \n",
    "    def E_step(self, X, Y, Z, HyperParameters):\n",
    "        \"\"\"\n",
    "        X is a tensor of shape [N x n]\n",
    "        Y is a tensor of shape [N x 1]\n",
    "        Z is a tensor of shape [N x 1]\n",
    "        \"\"\"\n",
    "        pass\n",
    "    \n",
    "    def M_step(self, X, Y, Z, HyperParameters):\n",
    "        \"\"\"\n",
    "        X is a tensor of shape [N x n]\n",
    "        Y is a tensor of shape [N x 1]\n",
    "        Z is a tensor of shape [N x 1]\n",
    "        \"\"\"\n",
    "        pass"
   ]
  },
  {
   "cell_type": "code",
   "execution_count": 525,
   "metadata": {},
   "outputs": [],
   "source": [
    "class EachModelKhi:\n",
    "    def __init__(self, input_dim = 20, device = 'cpu', a = None):\n",
    "        self.input_dim = input_dim\n",
    "        self.device = device\n",
    "        \n",
    "        if a is not None:\n",
    "            self.a = a\n",
    "        else:\n",
    "            self.a = np.ones(input_dim)\n",
    "\n",
    "        self.W = torch.randn(input_dim, 1, device = self.device)\n",
    "\n",
    "        \n",
    "    def forward(self, input):\n",
    "        return input@self.W\n",
    "    \n",
    "    def __call__(self, input):\n",
    "        return self.forward(input)\n",
    "    \n",
    "    def OptimizeHyperParameters(self, X, Y, Z, HyperParameters, Parameter):\n",
    "        \"\"\"\n",
    "        X is a tensor of shape [N x n]\n",
    "        Y is a tensor of shape [N x 1]\n",
    "        Z is a tensor of shape [N x 1]\n",
    "        HyperParameters is a dictionary\n",
    "        Parameter is a Key in dictionary\n",
    "        \"\"\"\n",
    "        if Parameter == 'beta':\n",
    "            temp1 = Y\n",
    "            temp2 = -(X@self.W)\n",
    "            return (0.5*(temp1 + temp2)*Z).mean().detach()\n",
    "        \n",
    "    def LogLikeLihoodExpectation(self, X, Y, HyperParameters):\n",
    "        \"\"\"\n",
    "        X is a tensor of shape [N x n]\n",
    "        Y is a tensor of shape [N x 1]\n",
    "        HyperParameters is a dictionary\n",
    "        \"\"\"\n",
    "        beta = 1./(HyperParameters['beta'] + 0.000001)\n",
    "        temp1 = Y\n",
    "        temp2 = -(X@self.W)\n",
    "        return (-0.5*beta*(temp1 + temp2) + np.log(0.5*beta)).detach()\n",
    "        \n",
    "\n",
    "    def E_step(self, X, Y, Z, HyperParameters):\n",
    "        \"\"\"\n",
    "        X is a tensor of shape [N x n]\n",
    "        Y is a tensor of shape [N x 1]\n",
    "        Z is a tensor of shape [N x 1]\n",
    "        HyperParameters is a dictionary\n",
    "        \"\"\"\n",
    "        beta = 1./(HyperParameters['beta'] + 0.000001)\n",
    "        temp = X.unsqueeze(2)\n",
    "        \n",
    "        second = (X*Z).sum(dim = 0)\n",
    "        self.W.data = 0.5*beta*(self.a*second).view_as(self.W).detach()\n",
    "        \n",
    "        return\n",
    "\n",
    "    def M_step(self, X, Y, Z, HyperParameters):\n",
    "        \"\"\"\n",
    "        X is a tensor of shape [N x n]\n",
    "        Y is a tensor of shape [N x 1]\n",
    "        Z is a tensor of shape [N x 1]\n",
    "        HyperParameters is a dictionary\n",
    "        \"\"\"\n",
    "        if self.a is not None:\n",
    "            self.a = torch.diagonal(torch.diag(self.a)+self.W@self.W.transpose(0,1)).detach()\n",
    "        return\n",
    "        "
   ]
  },
  {
   "cell_type": "code",
   "execution_count": 526,
   "metadata": {},
   "outputs": [],
   "source": [
    "class MixtureExpert:\n",
    "    def __init__(self, input_dim = 10, K = 2, HyperParameters = {'beta': 1}, HyperModel = None, ListOfModels = None, device = 'cpu'):\n",
    "        \"\"\"\n",
    "        It's necessary! The Hyper Parameter should be additive to models.\n",
    "        \"\"\"\n",
    "        \n",
    "        self.K = K\n",
    "        self.n = input_dim\n",
    "        self.device = device\n",
    "        \n",
    "        self.HyperParameters = HyperParameters\n",
    "        \n",
    "        if HyperModel is None:\n",
    "            self.HyperModel = HyperModelNN(input_dim = input_dim, hidden_dim = 10, output_dim = K, device = device)\n",
    "        else:\n",
    "            self.HyperModel = HyperModel\n",
    "            \n",
    "        if ListOfModels is None:\n",
    "            self.ListOfModels = [EachModelLinear(input_dim = input_dim, device = device) for _ in range(K)]\n",
    "        else:\n",
    "            self.ListOfModels = ListOfModels\n",
    "        \n",
    "        self.pZ = None\n",
    "        return\n",
    "        \n",
    "    def E_step(self, X, Y):\n",
    "# Optimize Z\n",
    "        temp1 = torch.nn.functional.log_softmax(self.HyperModel(X), dim = -1)\n",
    "        temp2 = torch.cat([self.ListOfModels[k].LogLikeLihoodExpectation(X, Y, self.HyperParameters) for k in range(self.K)], dim = 1)\n",
    "        self.pZ = torch.nn.functional.softmax(temp1 + temp2, dim=-1).detach()\n",
    "    \n",
    "# Optimize each model\n",
    "        for k in range(self.K):\n",
    "            self.ListOfModels[k].E_step(X, Y, self.pZ[:,k].view([-1, 1]), self.HyperParameters)\n",
    "            \n",
    "# Optimize HyperModel\n",
    "        self.HyperModel.E_step(X, Y, self.pZ, self.HyperParameters)\n",
    "        return\n",
    "        \n",
    "    def M_step(self, X, Y):\n",
    "# Optimize EachModel\n",
    "        for k in range(self.K):\n",
    "            self.ListOfModels[k].M_step(X, Y, self.pZ[:, k].view([-1, 1]), self.HyperParameters)\n",
    "            \n",
    "# Optimize HyperParameters\n",
    "        for Parameter in self.HyperParameters:\n",
    "            temp = 0\n",
    "            for k in range(self.K):\n",
    "                temp += self.ListOfModels[k].OptimizeHyperParameters(X, Y, self.pZ[:, k].view([-1, 1]), self.HyperParameters, Parameter)\n",
    "            self.HyperParameters[Parameter] = temp.detach()\n",
    "        \n",
    "# Optimize HyperModel\n",
    "        self.HyperModel.M_step(X, Y, self.pZ, self.HyperParameters)\n",
    "        return\n",
    "                \n",
    "    def fit(self, X = None, Y = None, epoch = 10, progress = None):\n",
    "        \"\"\"\n",
    "        X has a shape [N x n]\n",
    "        Y has a shape [n x p]\n",
    "        \"\"\"\n",
    "        if X is None:\n",
    "            return None\n",
    "        if y is None:\n",
    "            return None\n",
    "        \n",
    "        iterations = range(epoch)\n",
    "        \n",
    "        if progress is not None:\n",
    "            iterations = progress(iterations)\n",
    "        \n",
    "        for _ in iterations:\n",
    "            self.E_step(X, Y)\n",
    "            self.M_step(X, Y)\n",
    "            \n",
    "        return\n",
    "    \n",
    "    def predict(self, X):\n",
    "        \"\"\"\n",
    "        X has a shape [N x n]\n",
    "        \"\"\"\n",
    "        pi = torch.nn.functional.softmax(self.HyperModel(X), dim = -1).detach()\n",
    "        answ = torch.cat([self.ListOfModels[k](X) for k in range(self.K)], dim = 1).detach()\n",
    "        \n",
    "        return (answ*pi).sum(dim = -1).data.numpy()\n",
    "    "
   ]
  },
  {
   "cell_type": "markdown",
   "metadata": {},
   "source": [
    "# Experiment"
   ]
  },
  {
   "cell_type": "code",
   "execution_count": 527,
   "metadata": {},
   "outputs": [],
   "source": [
    "from PIL import Image"
   ]
  },
  {
   "cell_type": "code",
   "execution_count": 528,
   "metadata": {},
   "outputs": [],
   "source": [
    "from PIL import ImageDraw"
   ]
  },
  {
   "cell_type": "code",
   "execution_count": 529,
   "metadata": {},
   "outputs": [],
   "source": [
    "image = Image.fromarray(np.zeros([255, 255], dtype = np.int8))"
   ]
  },
  {
   "cell_type": "code",
   "execution_count": 530,
   "metadata": {},
   "outputs": [],
   "source": [
    "draw = ImageDraw.Draw(image)"
   ]
  },
  {
   "cell_type": "code",
   "execution_count": 531,
   "metadata": {},
   "outputs": [],
   "source": [
    "x0, y0, x1, y1 = [20, 20, 230, 230]\n",
    "draw.ellipse([x0, y0, x1, y1], fill = 1)\n",
    "draw.ellipse([x0+1, y0+1, x1-1, y1-1], fill = 0)\n",
    "\n",
    "k = 70\n",
    "draw.ellipse([x0+k, y0+k, x1-k, y1-k], fill = 1)\n",
    "draw.ellipse([x0+1+k, y0+1+k, x1-1-k, y1-1-k], fill = 0)"
   ]
  },
  {
   "cell_type": "code",
   "execution_count": 532,
   "metadata": {},
   "outputs": [
    {
     "data": {
      "text/plain": [
       "<matplotlib.image.AxesImage at 0x12b805c88>"
      ]
     },
     "execution_count": 532,
     "metadata": {},
     "output_type": "execute_result"
    },
    {
     "data": {
      "image/png": "[encoded data removed]",
      "text/plain": [
       "<Figure size 576x576 with 1 Axes>"
      ]
     },
     "metadata": {},
     "output_type": "display_data"
    }
   ],
   "source": [
    "plt.matshow(image)"
   ]
  },
  {
   "cell_type": "code",
   "execution_count": 533,
   "metadata": {},
   "outputs": [],
   "source": [
    "x = np.where(np.array(image) == 1)[0]\n",
    "x = x/255\n",
    "# x = x - x.mean()\n",
    "y = np.where(np.array(image) == 1)[1]\n",
    "y = y/255\n",
    "# y = y - y.mean()"
   ]
  },
  {
   "cell_type": "code",
   "execution_count": 534,
   "metadata": {},
   "outputs": [
    {
     "data": {
      "text/plain": [
       "[<matplotlib.lines.Line2D at 0x12b53bac8>]"
      ]
     },
     "execution_count": 534,
     "metadata": {},
     "output_type": "execute_result"
    },
    {
     "data": {
      "image/png": "[encoded data removed]",
      "text/plain": [
       "<Figure size 576x576 with 1 Axes>"
      ]
     },
     "metadata": {},
     "output_type": "display_data"
    }
   ],
   "source": [
    "plt.plot(x, y, '.')"
   ]
  },
  {
   "cell_type": "code",
   "execution_count": 610,
   "metadata": {},
   "outputs": [],
   "source": [
    "N = 50\n",
    "n = 3\n",
    "r1 = 3\n",
    "r2 = 4\n",
    "phi = np.linspace(0, 2*np.pi, N)\n",
    "\n",
    "x0 = 5\n",
    "y0 = 5\n",
    "\n",
    "# x = np.hstack([r1*np.sin(phi), r2*np.sin(phi), 1*np.random.randn(50)])\n",
    "x = np.hstack([r1*np.sin(phi), r2*np.sin(phi)])\n",
    "# x += 0.1*np.random.randn(x.shape[0])\n",
    "x += x0\n",
    "# y = np.hstack([r1*np.cos(phi), r2*np.cos(phi), 1*np.random.randn(50)])\n",
    "y = np.hstack([r1*np.cos(phi), r2*np.cos(phi)])\n",
    "# y += 0.1*np.random.randn(y.shape[0])\n",
    "y += y0\n",
    "\n",
    "X = np.vstack([2*x, 2*y, np.ones_like(x)]).T\n",
    "Y = x**2+y**2"
   ]
  },
  {
   "cell_type": "code",
   "execution_count": 611,
   "metadata": {},
   "outputs": [],
   "source": [
    "X_tr = torch.FloatTensor(X)\n",
    "Y_tr = torch.FloatTensor(Y).view([-1,1])"
   ]
  },
  {
   "cell_type": "code",
   "execution_count": 612,
   "metadata": {},
   "outputs": [
    {
     "data": {
      "text/plain": [
       "(torch.Size([100, 3]), torch.Size([100, 1]))"
      ]
     },
     "execution_count": 612,
     "metadata": {},
     "output_type": "execute_result"
    }
   ],
   "source": [
    "X_tr.shape, Y_tr.shape\n"
   ]
  },
  {
   "cell_type": "code",
   "execution_count": 613,
   "metadata": {},
   "outputs": [
    {
     "data": {
      "image/png": "[encoded data removed]",
      "text/plain": [
       "<Figure size 576x576 with 1 Axes>"
      ]
     },
     "metadata": {},
     "output_type": "display_data"
    }
   ],
   "source": [
    "_ = plt.plot(x, y, '.')\n",
    "\n",
    "plt.grid()\n",
    "plt.show()"
   ]
  },
  {
   "cell_type": "code",
   "execution_count": 614,
   "metadata": {},
   "outputs": [
    {
     "data": {
      "text/plain": [
       "device(type='cpu')"
      ]
     },
     "execution_count": 614,
     "metadata": {},
     "output_type": "execute_result"
    }
   ],
   "source": [
    "device = torch.device(\"cuda\" if torch.cuda.is_available() else \"cpu\")\n",
    "device"
   ]
  },
  {
   "cell_type": "code",
   "execution_count": 615,
   "metadata": {},
   "outputs": [],
   "source": [
    "LIST_A = [torch.Tensor([1, 1, 1]), torch.Tensor([1, 1, 1])]"
   ]
  },
  {
   "cell_type": "code",
   "execution_count": 616,
   "metadata": {},
   "outputs": [],
   "source": [
    "K = 2\n",
    "LoM = []\n",
    "for k in range(K):\n",
    "    LoM.append(EachModelLinear(input_dim = n, device = device, a = torch.ones(3)*LIST_A[k]))\n",
    "# K += 1\n",
    "# LoM.append(NoiseModelLinear(input_dim = n))\n",
    "\n",
    "\n",
    "HypPar = {'beta': 1}\n",
    "\n",
    "\n",
    "HpMd = HyperModelNN(input_dim = n, hidden_dim = 3, output_dim = K, device = device)\n",
    "model = MixtureExpert(input_dim = n, K = K, HyperParameters = HypPar, HyperModel = HpMd, ListOfModels = LoM, device = device)\n"
   ]
  },
  {
   "cell_type": "code",
   "execution_count": 617,
   "metadata": {},
   "outputs": [
    {
     "name": "stdout",
     "output_type": "stream",
     "text": [
      "tensor([1., 1., 1.])\n",
      "tensor([1., 1., 1.])\n"
     ]
    }
   ],
   "source": [
    "print(LoM[0].a)\n",
    "print(LoM[1].a)"
   ]
  },
  {
   "cell_type": "code",
   "execution_count": 618,
   "metadata": {},
   "outputs": [
    {
     "data": {
      "application/vnd.jupyter.widget-view+json": {
       "model_id": "1e681b38a5c140eb975b7c3726c105d8",
       "version_major": 2,
       "version_minor": 0
      },
      "text/plain": [
       "HBox(children=(IntProgress(value=0, max=30), HTML(value='')))"
      ]
     },
     "metadata": {},
     "output_type": "display_data"
    },
    {
     "name": "stdout",
     "output_type": "stream",
     "text": [
      "\n",
      "CPU times: user 892 ms, sys: 30.3 ms, total: 923 ms\n",
      "Wall time: 932 ms\n"
     ]
    }
   ],
   "source": [
    "%%time\n",
    "model.fit(X_tr, Y_tr, 30, progress = tqdm)"
   ]
  },
  {
   "cell_type": "code",
   "execution_count": 619,
   "metadata": {},
   "outputs": [
    {
     "name": "stdout",
     "output_type": "stream",
     "text": [
      "tensor([  1.5047,   5.4313, 116.1563])\n",
      "tensor([  24.9810,   25.0090, 1405.6390])\n"
     ]
    }
   ],
   "source": [
    "print(LoM[0].a)\n",
    "print(LoM[1].a)"
   ]
  },
  {
   "cell_type": "code",
   "execution_count": 620,
   "metadata": {},
   "outputs": [
    {
     "data": {
      "text/plain": [
       "{'beta': tensor(12.6291)}"
      ]
     },
     "execution_count": 620,
     "metadata": {},
     "output_type": "execute_result"
    }
   ],
   "source": [
    "model.HyperParameters"
   ]
  },
  {
   "cell_type": "code",
   "execution_count": 621,
   "metadata": {},
   "outputs": [
    {
     "data": {
      "text/plain": [
       "tensor(2511.5356)"
      ]
     },
     "execution_count": 621,
     "metadata": {},
     "output_type": "execute_result"
    }
   ],
   "source": [
    "((model.predict(X_tr)-Y_tr)**2).mean()"
   ]
  },
  {
   "cell_type": "code",
   "execution_count": 622,
   "metadata": {},
   "outputs": [
    {
     "data": {
      "image/png": "[encoded data removed]",
      "text/plain": [
       "<Figure size 576x576 with 1 Axes>"
      ]
     },
     "metadata": {},
     "output_type": "display_data"
    }
   ],
   "source": [
    "idx = np.argmax(model.pZ.data.numpy(), axis = 1)\n",
    "t = np.linspace(0, 2*np.pi, 100)\n",
    "\n",
    "colors = ['orange', 'green', 'red', 'yelow', 'blue']\n",
    "\n",
    "for i in np.unique(idx):\n",
    "    _ = plt.plot(x[idx == i], y[idx == i], '.', color = colors[i])\n",
    "    \n",
    "plt.grid()\n",
    "plt.show()"
   ]
  },
  {
   "cell_type": "code",
   "execution_count": 623,
   "metadata": {},
   "outputs": [
    {
     "name": "stderr",
     "output_type": "stream",
     "text": [
      "/Library/Frameworks/Python.framework/Versions/3.6/lib/python3.6/site-packages/ipykernel_launcher.py:7: RuntimeWarning: invalid value encountered in double_scalars\n",
      "  import sys\n"
     ]
    },
    {
     "data": {
      "text/plain": [
       "array([[4.3020787e-09, 1.4118578e-08, 2.6894920e-04],\n",
       "       [4.9975829e+00, 5.0004020e+00,           nan]], dtype=float32)"
      ]
     },
     "execution_count": 623,
     "metadata": {},
     "output_type": "execute_result"
    }
   ],
   "source": [
    "TEMP = np.array([m.W.data.numpy().reshape(-1) for m in model.ListOfModels])\n",
    "\n",
    "CIRCLE = np.zeros_like(TEMP)\n",
    "\n",
    "for i, param in enumerate(TEMP):\n",
    "    x0, y0 = param[:2]\n",
    "    r = (param[2] - param[1]**2 - param[0]**2)**0.5\n",
    "    CIRCLE[i] = x0, y0, r\n",
    "    \n",
    "CIRCLE"
   ]
  },
  {
   "cell_type": "code",
   "execution_count": 624,
   "metadata": {},
   "outputs": [
    {
     "data": {
      "image/png": "[encoded data removed]",
      "text/plain": [
       "<Figure size 576x576 with 1 Axes>"
      ]
     },
     "metadata": {},
     "output_type": "display_data"
    }
   ],
   "source": [
    "idx = np.argmax(model.pZ.data.numpy(), axis = 1)\n",
    "t = np.linspace(0, 2*np.pi, 100)\n",
    "\n",
    "colors = ['orange', 'green', 'red', 'yelow', 'blue']\n",
    "\n",
    "for i in np.unique(idx):\n",
    "    _ = plt.plot(x[idx == i], y[idx == i], '.', color = colors[i], label = 'model '+str(i))\n",
    "    \n",
    "    x0, y0, r = CIRCLE[i]\n",
    "    x_plot = x0 + r*np.sin(t)\n",
    "    y_plot = y0 + r*np.cos(t)\n",
    "    \n",
    "    _ = plt.plot(x_plot, y_plot, '-', color = colors[i])\n",
    "    \n",
    "plt.grid()\n",
    "\n",
    "plt.legend(loc = 'best')\n",
    "plt.show()"
   ]
  },
  {
   "cell_type": "code",
   "execution_count": null,
   "metadata": {},
   "outputs": [],
   "source": []
  }
 ],
 "metadata": {
  "kernelspec": {
   "display_name": "Python 3",
   "language": "python",
   "name": "python3"
  },
  "language_info": {
   "codemirror_mode": {
    "name": "ipython",
    "version": 3
   },
   "file_extension": ".py",
   "mimetype": "text/x-python",
   "name": "python",
   "nbconvert_exporter": "python",
   "pygments_lexer": "ipython3",
   "version": "3.6.2"
  }
 },
 "nbformat": 4,
 "nbformat_minor": 2
}
