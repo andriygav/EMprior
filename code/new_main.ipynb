{
  "nbformat": 4,
  "nbformat_minor": 0,
  "metadata": {
    "kernelspec": {
      "display_name": "Python 3",
      "language": "python",
      "name": "python3"
    },
    "language_info": {
      "codemirror_mode": {
        "name": "ipython",
        "version": 3
      },
      "file_extension": ".py",
      "mimetype": "text/x-python",
      "name": "python",
      "nbconvert_exporter": "python",
      "pygments_lexer": "ipython3",
      "version": "3.6.2"
    },
    "colab": {
      "name": "new_main.ipynb",
      "provenance": []
    }
  },
  "cells": [
    {
      "cell_type": "code",
      "metadata": {
        "id": "RBlp1z6iK8PO",
        "colab_type": "code",
        "colab": {}
      },
      "source": [
        "import numpy as np\n",
        "\n",
        "import matplotlib.pyplot as plt\n",
        "\n",
        "import pandas as pd\n",
        "\n",
        "from matplotlib import gridspec\n",
        "\n",
        "from sklearn.preprocessing import scale\n",
        "\n",
        "\n",
        "\n",
        "import torch\n",
        "import torch.nn as nn\n",
        "import torch.nn.functional as F\n",
        "\n",
        "from torch.utils.data import DataLoader\n",
        "\n",
        "from torch.utils.data import Dataset\n",
        "\n",
        "from sklearn.utils import shuffle\n",
        "from scipy.special import softmax\n",
        "\n",
        "from PIL import Image\n",
        "\n",
        "from PIL import ImageDraw\n",
        "\n",
        "from skimage import morphology\n",
        "\n",
        "import math"
      ],
      "execution_count": 0,
      "outputs": []
    },
    {
      "cell_type": "code",
      "metadata": {
        "id": "W6Jn4JFnK99F",
        "colab_type": "code",
        "colab": {
          "base_uri": "https://localhost:8080/",
          "height": 221
        },
        "outputId": "8afb3b21-9e02-41e3-c566-88f34e7e7ca4"
      },
      "source": [
        "!rm TorchExperts.py\n",
        "!wget https://raw.githubusercontent.com/andriygav/EMprior/master/code/TorchExperts.py"
      ],
      "execution_count": 2,
      "outputs": [
        {
          "output_type": "stream",
          "text": [
            "rm: cannot remove 'TorchExperts.py': No such file or directory\n",
            "--2019-10-21 14:36:31--  https://raw.githubusercontent.com/andriygav/EMprior/master/code/TorchExperts.py\n",
            "Resolving raw.githubusercontent.com (raw.githubusercontent.com)... 151.101.0.133, 151.101.64.133, 151.101.128.133, ...\n",
            "Connecting to raw.githubusercontent.com (raw.githubusercontent.com)|151.101.0.133|:443... connected.\n",
            "HTTP request sent, awaiting response... 200 OK\n",
            "Length: 13093 (13K) [text/plain]\n",
            "Saving to: ‘TorchExperts.py’\n",
            "\n",
            "TorchExperts.py     100%[===================>]  12.79K  --.-KB/s    in 0.01s   \n",
            "\n",
            "2019-10-21 14:36:31 (1.06 MB/s) - ‘TorchExperts.py’ saved [13093/13093]\n",
            "\n"
          ],
          "name": "stdout"
        }
      ]
    },
    {
      "cell_type": "code",
      "metadata": {
        "id": "hiUXV6ADbH8e",
        "colab_type": "code",
        "colab": {}
      },
      "source": [
        "from tqdm import tqdm as tqdm"
      ],
      "execution_count": 0,
      "outputs": []
    },
    {
      "cell_type": "code",
      "metadata": {
        "id": "pDSHRzJEK8PS",
        "colab_type": "code",
        "colab": {}
      },
      "source": [
        "plt.rcParams['lines.linewidth'] = 3\n",
        "plt.rcParams['lines.markersize'] = 6\n",
        "plt.rcParams['xtick.labelsize'] = 36\n",
        "plt.rcParams['ytick.labelsize'] = 36\n",
        "plt.rcParams['legend.fontsize'] = 36\n",
        "plt.rcParams['axes.titlesize']=36\n",
        "plt.rcParams['axes.labelsize']=36\n",
        "plt.rcParams['figure.figsize'] = (24.0, 12.0)\n",
        "plt.rcParams['font.size'] = 40\n",
        "\n",
        "plt.rcParams[\"font.family\"] = 'DejaVu Serif'\n",
        "\n",
        "plt.rcParams['text.usetex'] = False\n",
        "\n",
        "plt.rcParams['figure.figsize'] = (8.0, 8.0)"
      ],
      "execution_count": 0,
      "outputs": []
    },
    {
      "cell_type": "code",
      "metadata": {
        "id": "8w-LMcCbMg7M",
        "colab_type": "code",
        "colab": {}
      },
      "source": [
        "from TorchExperts import EachModelLinear, HyperModelNN, MixtureExpert, RegularizeModel"
      ],
      "execution_count": 0,
      "outputs": []
    },
    {
      "cell_type": "code",
      "metadata": {
        "id": "6XT724zzMh5e",
        "colab_type": "code",
        "colab": {
          "base_uri": "https://localhost:8080/",
          "height": 34
        },
        "outputId": "3bc1b638-88f6-4776-a340-70000ed5c75d"
      },
      "source": [
        "device = torch.device(\"cuda\" if torch.cuda.is_available() else \"cpu\")\n",
        "device"
      ],
      "execution_count": 7,
      "outputs": [
        {
          "output_type": "execute_result",
          "data": {
            "text/plain": [
              "device(type='cpu')"
            ]
          },
          "metadata": {
            "tags": []
          },
          "execution_count": 7
        }
      ]
    },
    {
      "cell_type": "markdown",
      "metadata": {
        "id": "aLurSxN8K8PU",
        "colab_type": "text"
      },
      "source": [
        "# All mixture of expert model"
      ]
    },
    {
      "cell_type": "markdown",
      "metadata": {
        "id": "BdjYFOYjK8PX",
        "colab_type": "text"
      },
      "source": [
        "# Experiment"
      ]
    },
    {
      "cell_type": "code",
      "metadata": {
        "id": "-aAkdjDsK8PX",
        "colab_type": "code",
        "colab": {}
      },
      "source": [
        "np.random.seed(0)\n",
        "N = 100\n",
        "N_noise=200\n",
        "n = 3\n",
        "r1 = 0.5\n",
        "r2 = 1.5\n",
        "phi = np.linspace(0, 2*np.pi, N)\n",
        "\n",
        "x0 = 0\n",
        "y0 = 0\n",
        "\n",
        "# x = np.hstack([r1*np.sin(phi) + x0, r2*np.sin(phi) + x0])\n",
        "x = np.hstack([r1*np.sin(phi) + x0, r2*np.sin(phi) + x0, 4*(np.random.rand(N_noise)-0.5) + x0])\n",
        "x += 0.05*np.random.randn(x.shape[0])\n",
        "# y = np.hstack([r1*np.cos(phi) + y0, r2*np.cos(phi) + y0])\n",
        "y = np.hstack([r1*np.cos(phi) + y0, r2*np.cos(phi) + y0, 4*(np.random.rand(N_noise)-0.5) + y0])\n",
        "y += 0.05*np.random.randn(y.shape[0])\n",
        "\n"
      ],
      "execution_count": 0,
      "outputs": []
    },
    {
      "cell_type": "code",
      "metadata": {
        "id": "drJa0LZcK8PZ",
        "colab_type": "code",
        "colab": {
          "base_uri": "https://localhost:8080/",
          "height": 499
        },
        "outputId": "f53898dd-8986-4ce7-b3d6-8c0ba77e4d87"
      },
      "source": [
        "plt.plot(x, y, '.')\n",
        "\n",
        "plt.grid()\n",
        "\n",
        "plt.show()"
      ],
      "execution_count": 52,
      "outputs": [
        {
          "output_type": "display_data",
          "data": {
            "image/png": "[encoded data removed]",
            "text/plain": [
              "<Figure size 576x576 with 1 Axes>"
            ]
          },
          "metadata": {
            "tags": []
          }
        }
      ]
    },
    {
      "cell_type": "code",
      "metadata": {
        "id": "VokV8TmxK8Pd",
        "colab_type": "code",
        "colab": {}
      },
      "source": [
        "X = np.vstack([x, y, np.ones_like(x)]).T\n",
        "Y = x**2+y**2"
      ],
      "execution_count": 0,
      "outputs": []
    },
    {
      "cell_type": "code",
      "metadata": {
        "id": "8F9WFj5DK8Ph",
        "colab_type": "code",
        "colab": {
          "base_uri": "https://localhost:8080/",
          "height": 34
        },
        "outputId": "1f3e2c1d-1293-46c5-ea5a-826da8ac655d"
      },
      "source": [
        "X_tr = torch.FloatTensor(X)\n",
        "Y_tr = torch.FloatTensor(Y).view([-1,1])\n",
        "\n",
        "X_tr.shape, Y_tr.shape"
      ],
      "execution_count": 54,
      "outputs": [
        {
          "output_type": "execute_result",
          "data": {
            "text/plain": [
              "(torch.Size([400, 3]), torch.Size([400, 1]))"
            ]
          },
          "metadata": {
            "tags": []
          },
          "execution_count": 54
        }
      ]
    },
    {
      "cell_type": "code",
      "metadata": {
        "id": "KESebBCnK8Pj",
        "colab_type": "code",
        "colab": {}
      },
      "source": [
        "K = 2\n",
        "LIST_A = [torch.Tensor([1, 1, 1]) for _ in range(K)]\n",
        "LIST_w = [torch.Tensor([[0], [0], [1]]), torch.Tensor([[0], [0], [2]])]\n",
        "\n",
        "\n",
        "LoM = []\n",
        "for k in range(K):\n",
        "#     LoM.append(EachModelLinear(input_dim = n, device = device))\n",
        "    LoM.append(EachModelLinear(input_dim = n, device = device, A = torch.ones(3)*LIST_A[k], w = torch.ones(3,1)*LIST_w[k], regul = True))\n",
        "#       LoM.append(EachModelLinear(input_dim = n, device = device, A = torch.ones(3)*LIST_A[k], regul = False))\n",
        "\n",
        "# K += 1\n",
        "# LoM.append(RegularizeModel(ListOfModels = LoM))\n",
        "\n",
        "HypPar = {'beta': 1, 'alpha': 1e-5}\n",
        "\n",
        "HpMd = HyperModelNN(input_dim = n, hidden_dim = 5, output_dim = K, device = device, epochs=500)\n",
        "\n",
        "model = MixtureExpert(input_dim = n, K = K, HyperParameters = HypPar, HyperModel = HpMd, ListOfModels = LoM, ListOfRegularizeModel = [RegularizeModel(ListOfModels = LoM)], device = device)\n",
        "# model = MixtureExpert(input_dim = n, K = K, HyperParameters = HypPar, HyperModel = HpMd, ListOfModels = LoM, ListOfRegularizeModel = [], device = device)\n",
        "\n",
        "\n",
        "\n"
      ],
      "execution_count": 0,
      "outputs": []
    },
    {
      "cell_type": "code",
      "metadata": {
        "id": "A7IN-BorK8Pl",
        "colab_type": "code",
        "colab": {
          "base_uri": "https://localhost:8080/",
          "height": 68
        },
        "outputId": "428b08c1-8cc7-4115-bd48-468ee96d4b76"
      },
      "source": [
        "%%time\n",
        "model.fit(X_tr, Y_tr, 50, progress = tqdm)"
      ],
      "execution_count": 176,
      "outputs": [
        {
          "output_type": "stream",
          "text": [
            "100%|██████████| 50/50 [02:52<00:00,  3.43s/it]"
          ],
          "name": "stderr"
        },
        {
          "output_type": "stream",
          "text": [
            "CPU times: user 2min 45s, sys: 4.07 s, total: 2min 49s\n",
            "Wall time: 2min 52s\n"
          ],
          "name": "stdout"
        },
        {
          "output_type": "stream",
          "text": [
            "\n"
          ],
          "name": "stderr"
        }
      ]
    },
    {
      "cell_type": "code",
      "metadata": {
        "id": "hYtKfjePwayv",
        "colab_type": "code",
        "colab": {
          "base_uri": "https://localhost:8080/",
          "height": 34
        },
        "outputId": "851538ec-9b1b-4fc4-e6e6-3d37ccd3f78c"
      },
      "source": [
        "model.HyperParameters"
      ],
      "execution_count": 177,
      "outputs": [
        {
          "output_type": "execute_result",
          "data": {
            "text/plain": [
              "{'alpha': 1e-05, 'beta': tensor(0.8407)}"
            ]
          },
          "metadata": {
            "tags": []
          },
          "execution_count": 177
        }
      ]
    },
    {
      "cell_type": "code",
      "metadata": {
        "id": "3hH7A0EjK8Pr",
        "colab_type": "code",
        "colab": {
          "base_uri": "https://localhost:8080/",
          "height": 51
        },
        "outputId": "94462874-d223-4e0a-cb4b-c1d2f39bceed"
      },
      "source": [
        "print(model.ListOfModels[0].A)\n",
        "\n",
        "print(model.ListOfModels[1].A)"
      ],
      "execution_count": 178,
      "outputs": [
        {
          "output_type": "stream",
          "text": [
            "tensor([0.0021, 0.0007, 0.0001])\n",
            "tensor([5.6278e-05, 5.1399e-05, 8.7738e-05])\n"
          ],
          "name": "stdout"
        }
      ]
    },
    {
      "cell_type": "code",
      "metadata": {
        "id": "OA1aw4usaLZI",
        "colab_type": "code",
        "colab": {
          "base_uri": "https://localhost:8080/",
          "height": 119
        },
        "outputId": "1bd60970-3537-49bd-d73d-550fb79522db"
      },
      "source": [
        "print(model.ListOfModels[0].B)\n",
        "\n",
        "print(model.ListOfModels[1].B)"
      ],
      "execution_count": 179,
      "outputs": [
        {
          "output_type": "stream",
          "text": [
            "tensor([[ 1.9865e-03, -7.3606e-07, -2.6930e-06],\n",
            "        [-7.3606e-07,  7.2227e-04,  7.6134e-07],\n",
            "        [-2.6930e-06,  7.6134e-07,  1.3193e-04]])\n",
            "tensor([[ 5.6260e-05, -2.7258e-08,  5.9674e-08],\n",
            "        [-2.7258e-08,  5.1398e-05, -5.8412e-08],\n",
            "        [ 5.9674e-08, -5.8412e-08,  8.7434e-05]])\n"
          ],
          "name": "stdout"
        }
      ]
    },
    {
      "cell_type": "code",
      "metadata": {
        "id": "WCdcfZXPWd9T",
        "colab_type": "code",
        "colab": {
          "base_uri": "https://localhost:8080/",
          "height": 119
        },
        "outputId": "b82521d2-d40b-477a-ee23-6ee8dd4cc949"
      },
      "source": [
        "print(model.ListOfModels[0].w_0)\n",
        "\n",
        "print(model.ListOfModels[1].w_0)"
      ],
      "execution_count": 180,
      "outputs": [
        {
          "output_type": "stream",
          "text": [
            "tensor([[-2.7572e-05],\n",
            "        [-3.2858e-04],\n",
            "        [ 4.4545e-01]])\n",
            "tensor([[-6.9662e-05],\n",
            "        [-3.1761e-04],\n",
            "        [ 2.9611e+00]])\n"
          ],
          "name": "stdout"
        }
      ]
    },
    {
      "cell_type": "code",
      "metadata": {
        "id": "w-faxN7mK8Pt",
        "colab_type": "code",
        "colab": {
          "base_uri": "https://localhost:8080/",
          "height": 499
        },
        "outputId": "627a13a8-cd69-4041-9efb-130e682a8a03"
      },
      "source": [
        "Text_size = 24\n",
        "\n",
        "plt.rcParams['lines.linewidth'] = 1\n",
        "plt.rcParams['lines.markersize'] = 4\n",
        "plt.rcParams['xtick.labelsize'] = Text_size\n",
        "plt.rcParams['ytick.labelsize'] = Text_size\n",
        "plt.rcParams['legend.fontsize'] = Text_size\n",
        "plt.rcParams['axes.titlesize']=Text_size\n",
        "plt.rcParams['axes.labelsize']=Text_size\n",
        "plt.rcParams['figure.figsize'] = (8.0, 8.0)\n",
        "plt.rcParams['font.size'] = Text_size\n",
        "plt.rcParams[\"legend.labelspacing\"] = 0.1\n",
        "plt.rcParams[\"legend.handletextpad\"] = 0.1\n",
        "#################################################\n",
        "\n",
        "idx = np.argmax(model.predict(X_tr)[1], axis = 1)\n",
        "t = np.linspace(0, 2*np.pi, 100)\n",
        "\n",
        "colors = ['orange', 'green', 'red', 'yellow', 'blue']\n",
        "\n",
        "for i in np.unique(idx):\n",
        "    _ = plt.plot(x[idx == i], y[idx == i], '.', color = colors[i])\n",
        "    \n",
        "plt.grid()\n",
        "plt.show()"
      ],
      "execution_count": 181,
      "outputs": [
        {
          "output_type": "display_data",
          "data": {
            "image/png": "[encoded data removed]",
            "text/plain": [
              "<Figure size 576x576 with 1 Axes>"
            ]
          },
          "metadata": {
            "tags": []
          }
        }
      ]
    },
    {
      "cell_type": "code",
      "metadata": {
        "id": "xmoEZ_MiK8Pv",
        "colab_type": "code",
        "colab": {
          "base_uri": "https://localhost:8080/",
          "height": 51
        },
        "outputId": "6fd21cc6-26ea-4c8e-ec25-31638807b7df"
      },
      "source": [
        "TEMP = np.array([m.W.data.numpy().reshape(-1) for m in model.ListOfModels])\n",
        "\n",
        "TEMP"
      ],
      "execution_count": 182,
      "outputs": [
        {
          "output_type": "execute_result",
          "data": {
            "text/plain": [
              "array([[ 1.2590599e-02, -2.3637034e-03,  4.4545308e-01],\n",
              "       [-2.1248801e-04, -3.4885030e-04,  2.9611421e+00]], dtype=float32)"
            ]
          },
          "metadata": {
            "tags": []
          },
          "execution_count": 182
        }
      ]
    },
    {
      "cell_type": "code",
      "metadata": {
        "id": "5SQUfzY8K8Px",
        "colab_type": "code",
        "colab": {
          "base_uri": "https://localhost:8080/",
          "height": 51
        },
        "outputId": "d543e4a8-c5ac-4dcd-dec1-63b68b98092a"
      },
      "source": [
        "CIRCLE = np.zeros_like(TEMP)\n",
        "\n",
        "for i, param in enumerate(TEMP):\n",
        "    x0, y0 = 0.5*param[:2]\n",
        "    r = (param[2] + x0**2 + y0**2)**0.5\n",
        "    CIRCLE[i] = x0, y0, r\n",
        "    \n",
        "CIRCLE"
      ],
      "execution_count": 183,
      "outputs": [
        {
          "output_type": "execute_result",
          "data": {
            "text/plain": [
              "array([[ 6.29529962e-03, -1.18185172e-03,  6.67453468e-01],\n",
              "       [-1.06244006e-04, -1.74425149e-04,  1.72079694e+00]], dtype=float32)"
            ]
          },
          "metadata": {
            "tags": []
          },
          "execution_count": 183
        }
      ]
    },
    {
      "cell_type": "code",
      "metadata": {
        "id": "HRSmVOOWK8Pz",
        "colab_type": "code",
        "colab": {
          "base_uri": "https://localhost:8080/",
          "height": 499
        },
        "outputId": "180fcdda-01bd-4760-cf2a-f2df8eca9de1"
      },
      "source": [
        "Text_size = 24\n",
        "\n",
        "plt.rcParams['lines.linewidth'] = 1\n",
        "plt.rcParams['lines.markersize'] = 4\n",
        "plt.rcParams['xtick.labelsize'] = Text_size\n",
        "plt.rcParams['ytick.labelsize'] = Text_size\n",
        "plt.rcParams['legend.fontsize'] = Text_size\n",
        "plt.rcParams['axes.titlesize']=Text_size\n",
        "plt.rcParams['axes.labelsize']=Text_size\n",
        "plt.rcParams['figure.figsize'] = (8.0, 8.0)\n",
        "plt.rcParams['font.size'] = Text_size\n",
        "plt.rcParams[\"legend.labelspacing\"] = 0.1\n",
        "plt.rcParams[\"legend.handletextpad\"] = 0.1\n",
        "#################################################\n",
        "\n",
        "idx = np.argmax(model.predict(X_tr)[1], axis = 1)\n",
        "t = np.linspace(0, 2*np.pi, 100)\n",
        "\n",
        "colors = ['orange', 'green', 'red', 'yellow', 'blue']\n",
        "\n",
        "for i in range(len(model.ListOfModels)):\n",
        "    _ = plt.plot(x[idx == i], y[idx == i], '.', color = colors[i], label = 'model '+str(i))\n",
        "    \n",
        "    x0, y0, r = CIRCLE[i]\n",
        "    x_plot = x0 + r*np.sin(t)\n",
        "    y_plot = y0 + r*np.cos(t)\n",
        "    \n",
        "    _ = plt.plot(x_plot, y_plot, '-', color = colors[i])\n",
        "    \n",
        "plt.grid()\n",
        "\n",
        "plt.legend(loc = 'best')\n",
        "\n",
        "# plt.savefig('results/full_infomative.pdf', )\n",
        "\n",
        "plt.show()"
      ],
      "execution_count": 184,
      "outputs": [
        {
          "output_type": "display_data",
          "data": {
            "image/png": "[encoded data removed]",
            "text/plain": [
              "<Figure size 576x576 with 1 Axes>"
            ]
          },
          "metadata": {
            "tags": []
          }
        }
      ]
    },
    {
      "cell_type": "code",
      "metadata": {
        "id": "lTOVkmZzVl_7",
        "colab_type": "code",
        "colab": {}
      },
      "source": [
        ""
      ],
      "execution_count": 0,
      "outputs": []
    }
  ]
}