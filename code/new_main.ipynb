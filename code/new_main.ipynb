{
  "nbformat": 4,
  "nbformat_minor": 0,
  "metadata": {
    "kernelspec": {
      "display_name": "Python 3",
      "language": "python",
      "name": "python3"
    },
    "language_info": {
      "codemirror_mode": {
        "name": "ipython",
        "version": 3
      },
      "file_extension": ".py",
      "mimetype": "text/x-python",
      "name": "python",
      "nbconvert_exporter": "python",
      "pygments_lexer": "ipython3",
      "version": "3.6.2"
    },
    "colab": {
      "name": "new_main.ipynb",
      "provenance": []
    }
  },
  "cells": [
    {
      "cell_type": "code",
      "metadata": {
        "id": "RBlp1z6iK8PO",
        "colab_type": "code",
        "colab": {}
      },
      "source": [
        "import numpy as np\n",
        "\n",
        "import matplotlib.pyplot as plt\n",
        "\n",
        "import pandas as pd\n",
        "\n",
        "from matplotlib import gridspec\n",
        "\n",
        "from sklearn.preprocessing import scale\n",
        "\n",
        "\n",
        "\n",
        "import torch\n",
        "import torch.nn as nn\n",
        "import torch.nn.functional as F\n",
        "\n",
        "from torch.utils.data import DataLoader\n",
        "\n",
        "from torch.utils.data import Dataset\n",
        "\n",
        "from sklearn.utils import shuffle\n",
        "from scipy.special import softmax\n",
        "\n",
        "from PIL import Image\n",
        "\n",
        "from PIL import ImageDraw\n",
        "\n",
        "from skimage import morphology\n",
        "\n",
        "import math"
      ],
      "execution_count": 0,
      "outputs": []
    },
    {
      "cell_type": "code",
      "metadata": {
        "id": "W6Jn4JFnK99F",
        "colab_type": "code",
        "colab": {
          "base_uri": "https://localhost:8080/",
          "height": 221
        },
        "outputId": "d44ce72d-6362-478e-bfcb-99a613e49294"
      },
      "source": [
        "!rm TorchExperts.py\n",
        "!wget https://raw.githubusercontent.com/andriygav/EMprior/master/code/TorchExperts.py"
      ],
      "execution_count": 2,
      "outputs": [
        {
          "output_type": "stream",
          "text": [
            "rm: cannot remove 'TorchExperts.py': No such file or directory\n",
            "--2019-10-21 13:59:41--  https://raw.githubusercontent.com/andriygav/EMprior/master/code/TorchExperts.py\n",
            "Resolving raw.githubusercontent.com (raw.githubusercontent.com)... 151.101.0.133, 151.101.64.133, 151.101.128.133, ...\n",
            "Connecting to raw.githubusercontent.com (raw.githubusercontent.com)|151.101.0.133|:443... connected.\n",
            "HTTP request sent, awaiting response... 200 OK\n",
            "Length: 12978 (13K) [text/plain]\n",
            "Saving to: ‘TorchExperts.py’\n",
            "\n",
            "TorchExperts.py     100%[===================>]  12.67K  --.-KB/s    in 0.008s  \n",
            "\n",
            "2019-10-21 13:59:41 (1.46 MB/s) - ‘TorchExperts.py’ saved [12978/12978]\n",
            "\n"
          ],
          "name": "stdout"
        }
      ]
    },
    {
      "cell_type": "code",
      "metadata": {
        "id": "hiUXV6ADbH8e",
        "colab_type": "code",
        "colab": {}
      },
      "source": [
        "from tqdm import tqdm as tqdm"
      ],
      "execution_count": 0,
      "outputs": []
    },
    {
      "cell_type": "code",
      "metadata": {
        "id": "pDSHRzJEK8PS",
        "colab_type": "code",
        "colab": {}
      },
      "source": [
        "plt.rcParams['lines.linewidth'] = 3\n",
        "plt.rcParams['lines.markersize'] = 6\n",
        "plt.rcParams['xtick.labelsize'] = 36\n",
        "plt.rcParams['ytick.labelsize'] = 36\n",
        "plt.rcParams['legend.fontsize'] = 36\n",
        "plt.rcParams['axes.titlesize']=36\n",
        "plt.rcParams['axes.labelsize']=36\n",
        "plt.rcParams['figure.figsize'] = (24.0, 12.0)\n",
        "plt.rcParams['font.size'] = 40\n",
        "\n",
        "plt.rcParams[\"font.family\"] = 'DejaVu Serif'\n",
        "\n",
        "plt.rcParams['text.usetex'] = False\n",
        "\n",
        "plt.rcParams['figure.figsize'] = (8.0, 8.0)"
      ],
      "execution_count": 0,
      "outputs": []
    },
    {
      "cell_type": "code",
      "metadata": {
        "id": "8w-LMcCbMg7M",
        "colab_type": "code",
        "colab": {}
      },
      "source": [
        "from TorchExperts import EachModelLinear, HyperModelNN, MixtureExpert, RegularizeModel"
      ],
      "execution_count": 0,
      "outputs": []
    },
    {
      "cell_type": "code",
      "metadata": {
        "id": "6XT724zzMh5e",
        "colab_type": "code",
        "colab": {
          "base_uri": "https://localhost:8080/",
          "height": 34
        },
        "outputId": "e9e24678-03bf-49d7-919b-68944e125797"
      },
      "source": [
        "device = torch.device(\"cuda\" if torch.cuda.is_available() else \"cpu\")\n",
        "device"
      ],
      "execution_count": 6,
      "outputs": [
        {
          "output_type": "execute_result",
          "data": {
            "text/plain": [
              "device(type='cpu')"
            ]
          },
          "metadata": {
            "tags": []
          },
          "execution_count": 6
        }
      ]
    },
    {
      "cell_type": "markdown",
      "metadata": {
        "id": "aLurSxN8K8PU",
        "colab_type": "text"
      },
      "source": [
        "# All mixture of expert model"
      ]
    },
    {
      "cell_type": "markdown",
      "metadata": {
        "id": "BdjYFOYjK8PX",
        "colab_type": "text"
      },
      "source": [
        "# Experiment"
      ]
    },
    {
      "cell_type": "code",
      "metadata": {
        "id": "-aAkdjDsK8PX",
        "colab_type": "code",
        "colab": {}
      },
      "source": [
        "np.random.seed(0)\n",
        "N = 200\n",
        "n = 3\n",
        "r1 = 0.5\n",
        "r2 = 1.5\n",
        "phi = np.linspace(0, 2*np.pi, N)\n",
        "\n",
        "x0 = 0\n",
        "y0 = 0\n",
        "\n",
        "# x = np.hstack([r1*np.sin(phi) + x0, r2*np.sin(phi) + x0])\n",
        "x = np.hstack([r1*np.sin(phi) + x0, r2*np.sin(phi) + x0, 4*(np.random.rand(200)-0.5) + x0])\n",
        "x += 0.05*np.random.randn(x.shape[0])\n",
        "# y = np.hstack([r1*np.cos(phi) + y0, r2*np.cos(phi) + y0])\n",
        "y = np.hstack([r1*np.cos(phi) + y0, r2*np.cos(phi) + y0, 4*(np.random.rand(200)-0.5) + y0])\n",
        "y += 0.05*np.random.randn(y.shape[0])\n",
        "\n"
      ],
      "execution_count": 0,
      "outputs": []
    },
    {
      "cell_type": "code",
      "metadata": {
        "id": "drJa0LZcK8PZ",
        "colab_type": "code",
        "colab": {
          "base_uri": "https://localhost:8080/",
          "height": 510
        },
        "outputId": "6e2587cd-7bf9-48f3-c00c-e274d4fc9654"
      },
      "source": [
        "plt.plot(x, y, '.')\n",
        "\n",
        "plt.grid()\n",
        "\n",
        "plt.show()"
      ],
      "execution_count": 8,
      "outputs": [
        {
          "output_type": "display_data",
          "data": {
            "image/png": "[encoded data removed]",
            "text/plain": [
              "<Figure size 576x576 with 1 Axes>"
            ]
          },
          "metadata": {
            "tags": []
          }
        }
      ]
    },
    {
      "cell_type": "code",
      "metadata": {
        "id": "VokV8TmxK8Pd",
        "colab_type": "code",
        "colab": {}
      },
      "source": [
        "X = np.vstack([x, y, np.ones_like(x)]).T\n",
        "Y = x**2+y**2"
      ],
      "execution_count": 0,
      "outputs": []
    },
    {
      "cell_type": "code",
      "metadata": {
        "id": "8F9WFj5DK8Ph",
        "colab_type": "code",
        "colab": {
          "base_uri": "https://localhost:8080/",
          "height": 34
        },
        "outputId": "05bb7aae-89ff-4143-ce1f-f75b4cc30e09"
      },
      "source": [
        "X_tr = torch.FloatTensor(X)\n",
        "Y_tr = torch.FloatTensor(Y).view([-1,1])\n",
        "\n",
        "X_tr.shape, Y_tr.shape"
      ],
      "execution_count": 10,
      "outputs": [
        {
          "output_type": "execute_result",
          "data": {
            "text/plain": [
              "(torch.Size([600, 3]), torch.Size([600, 1]))"
            ]
          },
          "metadata": {
            "tags": []
          },
          "execution_count": 10
        }
      ]
    },
    {
      "cell_type": "code",
      "metadata": {
        "id": "KESebBCnK8Pj",
        "colab_type": "code",
        "colab": {}
      },
      "source": [
        "K = 2\n",
        "LIST_A = [torch.Tensor([1, 1, 1]) for _ in range(K)]\n",
        "LIST_w = [torch.Tensor([[0], [0], [1]]), torch.Tensor([[0], [0], [2]])]\n",
        "\n",
        "\n",
        "LoM = []\n",
        "for k in range(K):\n",
        "#     LoM.append(EachModelLinear(input_dim = n, device = device))\n",
        "    LoM.append(EachModelLinear(input_dim = n, device = device, A = torch.ones(3)*LIST_A[k], w = torch.ones(3,1)*LIST_w[k], regul = True))\n",
        "#       LoM.append(EachModelLinear(input_dim = n, device = device, A = torch.ones(3)*LIST_A[k], regul = False))\n",
        "\n",
        "# K += 1\n",
        "# LoM.append(RegularizeModel(ListOfModels = LoM))\n",
        "\n",
        "HypPar = {'beta': 1, 'alpha': 1}\n",
        "\n",
        "HpMd = HyperModelNN(input_dim = n, hidden_dim = 5, output_dim = K, device = device, epochs=500)\n",
        "\n",
        "model = MixtureExpert(input_dim = n, K = K, HyperParameters = HypPar, HyperModel = HpMd, ListOfModels = LoM, ListOfRegularizeModel = [RegularizeModel(ListOfModels = LoM)], device = device)\n",
        "# model = MixtureExpert(input_dim = n, K = K, HyperParameters = HypPar, HyperModel = HpMd, ListOfModels = LoM, ListOfRegularizeModel = [], device = device)\n",
        "\n",
        "\n",
        "\n"
      ],
      "execution_count": 0,
      "outputs": []
    },
    {
      "cell_type": "code",
      "metadata": {
        "id": "A7IN-BorK8Pl",
        "colab_type": "code",
        "colab": {
          "base_uri": "https://localhost:8080/",
          "height": 68
        },
        "outputId": "8017103e-f3ab-429b-ba0c-90df64351792"
      },
      "source": [
        "%%time\n",
        "model.fit(X_tr, Y_tr, 5, progress = tqdm)"
      ],
      "execution_count": 141,
      "outputs": [
        {
          "output_type": "stream",
          "text": [
            "100%|██████████| 5/5 [00:21<00:00,  4.24s/it]"
          ],
          "name": "stderr"
        },
        {
          "output_type": "stream",
          "text": [
            "CPU times: user 20.4 s, sys: 494 ms, total: 20.9 s\n",
            "Wall time: 21.2 s\n"
          ],
          "name": "stdout"
        },
        {
          "output_type": "stream",
          "text": [
            "\n"
          ],
          "name": "stderr"
        }
      ]
    },
    {
      "cell_type": "code",
      "metadata": {
        "id": "3hH7A0EjK8Pr",
        "colab_type": "code",
        "colab": {
          "base_uri": "https://localhost:8080/",
          "height": 51
        },
        "outputId": "01641a31-2a98-4f06-8012-3e8f6349147b"
      },
      "source": [
        "print(model.ListOfModels[0].A)\n",
        "\n",
        "print(model.ListOfModels[1].A)"
      ],
      "execution_count": 142,
      "outputs": [
        {
          "output_type": "stream",
          "text": [
            "tensor([0.0035, 0.0011, 0.0017])\n",
            "tensor([0.0003, 0.0002, 0.0011])\n"
          ],
          "name": "stdout"
        }
      ]
    },
    {
      "cell_type": "code",
      "metadata": {
        "id": "OA1aw4usaLZI",
        "colab_type": "code",
        "colab": {
          "base_uri": "https://localhost:8080/",
          "height": 119
        },
        "outputId": "162989e4-6ba7-46f4-c597-1177515f8fe7"
      },
      "source": [
        "print(model.ListOfModels[0].B)\n",
        "\n",
        "print(model.ListOfModels[1].B)"
      ],
      "execution_count": 143,
      "outputs": [
        {
          "output_type": "stream",
          "text": [
            "tensor([[ 3.3186e-03, -1.7372e-05,  4.4186e-05],\n",
            "        [-1.7372e-05,  1.1378e-03,  9.4095e-06],\n",
            "        [ 4.4186e-05,  9.4095e-06,  1.3986e-03]])\n",
            "tensor([[ 2.7010e-04, -1.3473e-06, -1.2410e-06],\n",
            "        [-1.3473e-06,  2.2307e-04, -4.8767e-07],\n",
            "        [-1.2410e-06, -4.8767e-07,  8.5215e-04]])\n"
          ],
          "name": "stdout"
        }
      ]
    },
    {
      "cell_type": "code",
      "metadata": {
        "id": "WCdcfZXPWd9T",
        "colab_type": "code",
        "colab": {
          "base_uri": "https://localhost:8080/",
          "height": 119
        },
        "outputId": "130b81b7-a32b-47e2-ef49-4920bfec60f9"
      },
      "source": [
        "print(model.ListOfModels[0].w_0)\n",
        "\n",
        "print(model.ListOfModels[1].w_0)"
      ],
      "execution_count": 144,
      "outputs": [
        {
          "output_type": "stream",
          "text": [
            "tensor([[-0.3026],\n",
            "        [-0.0992],\n",
            "        [ 0.4096]])\n",
            "tensor([[-1.0011e-01],\n",
            "        [-5.1144e-04],\n",
            "        [ 2.8365e+00]])\n"
          ],
          "name": "stdout"
        }
      ]
    },
    {
      "cell_type": "code",
      "metadata": {
        "id": "w-faxN7mK8Pt",
        "colab_type": "code",
        "colab": {
          "base_uri": "https://localhost:8080/",
          "height": 499
        },
        "outputId": "ae899f67-876e-4e2f-d326-c4ec6599d268"
      },
      "source": [
        "Text_size = 24\n",
        "\n",
        "plt.rcParams['lines.linewidth'] = 1\n",
        "plt.rcParams['lines.markersize'] = 4\n",
        "plt.rcParams['xtick.labelsize'] = Text_size\n",
        "plt.rcParams['ytick.labelsize'] = Text_size\n",
        "plt.rcParams['legend.fontsize'] = Text_size\n",
        "plt.rcParams['axes.titlesize']=Text_size\n",
        "plt.rcParams['axes.labelsize']=Text_size\n",
        "plt.rcParams['figure.figsize'] = (8.0, 8.0)\n",
        "plt.rcParams['font.size'] = Text_size\n",
        "plt.rcParams[\"legend.labelspacing\"] = 0.1\n",
        "plt.rcParams[\"legend.handletextpad\"] = 0.1\n",
        "#################################################\n",
        "\n",
        "idx = np.argmax(model.predict(X_tr)[1], axis = 1)\n",
        "t = np.linspace(0, 2*np.pi, 100)\n",
        "\n",
        "colors = ['orange', 'green', 'red', 'yellow', 'blue']\n",
        "\n",
        "for i in np.unique(idx):\n",
        "    _ = plt.plot(x[idx == i], y[idx == i], '.', color = colors[i])\n",
        "    \n",
        "plt.grid()\n",
        "plt.show()"
      ],
      "execution_count": 145,
      "outputs": [
        {
          "output_type": "display_data",
          "data": {
            "image/png": "[encoded data removed]",
            "text/plain": [
              "<Figure size 576x576 with 1 Axes>"
            ]
          },
          "metadata": {
            "tags": []
          }
        }
      ]
    },
    {
      "cell_type": "code",
      "metadata": {
        "id": "xmoEZ_MiK8Pv",
        "colab_type": "code",
        "colab": {
          "base_uri": "https://localhost:8080/",
          "height": 51
        },
        "outputId": "66d48949-a8ad-44ca-efbf-eb4563ed42f5"
      },
      "source": [
        "TEMP = np.array([m.W.data.numpy().reshape(-1) for m in model.ListOfModels])\n",
        "\n",
        "TEMP"
      ],
      "execution_count": 146,
      "outputs": [
        {
          "output_type": "execute_result",
          "data": {
            "text/plain": [
              "array([[-3.0329508e-01, -9.9292040e-02,  4.0964165e-01],\n",
              "       [-1.0005117e-01, -4.8938917e-04,  2.8365395e+00]], dtype=float32)"
            ]
          },
          "metadata": {
            "tags": []
          },
          "execution_count": 146
        }
      ]
    },
    {
      "cell_type": "code",
      "metadata": {
        "id": "5SQUfzY8K8Px",
        "colab_type": "code",
        "colab": {
          "base_uri": "https://localhost:8080/",
          "height": 51
        },
        "outputId": "124ddd32-c799-4adc-e86a-88da34889775"
      },
      "source": [
        "CIRCLE = np.zeros_like(TEMP)\n",
        "\n",
        "for i, param in enumerate(TEMP):\n",
        "    x0, y0 = 0.5*param[:2]\n",
        "    r = (param[2] + x0**2 + y0**2)**0.5\n",
        "    CIRCLE[i] = x0, y0, r\n",
        "    \n",
        "CIRCLE"
      ],
      "execution_count": 147,
      "outputs": [
        {
          "output_type": "execute_result",
          "data": {
            "text/plain": [
              "array([[-1.5164754e-01, -4.9646020e-02,  6.5962362e-01],\n",
              "       [-5.0025586e-02, -2.4469459e-04,  1.6849457e+00]], dtype=float32)"
            ]
          },
          "metadata": {
            "tags": []
          },
          "execution_count": 147
        }
      ]
    },
    {
      "cell_type": "code",
      "metadata": {
        "id": "HRSmVOOWK8Pz",
        "colab_type": "code",
        "colab": {
          "base_uri": "https://localhost:8080/",
          "height": 499
        },
        "outputId": "476a5230-4f77-4adf-9a3f-ace1ac5da2cf"
      },
      "source": [
        "Text_size = 24\n",
        "\n",
        "plt.rcParams['lines.linewidth'] = 1\n",
        "plt.rcParams['lines.markersize'] = 4\n",
        "plt.rcParams['xtick.labelsize'] = Text_size\n",
        "plt.rcParams['ytick.labelsize'] = Text_size\n",
        "plt.rcParams['legend.fontsize'] = Text_size\n",
        "plt.rcParams['axes.titlesize']=Text_size\n",
        "plt.rcParams['axes.labelsize']=Text_size\n",
        "plt.rcParams['figure.figsize'] = (8.0, 8.0)\n",
        "plt.rcParams['font.size'] = Text_size\n",
        "plt.rcParams[\"legend.labelspacing\"] = 0.1\n",
        "plt.rcParams[\"legend.handletextpad\"] = 0.1\n",
        "#################################################\n",
        "\n",
        "idx = np.argmax(model.predict(X_tr)[1], axis = 1)\n",
        "t = np.linspace(0, 2*np.pi, 100)\n",
        "\n",
        "colors = ['orange', 'green', 'red', 'yellow', 'blue']\n",
        "\n",
        "for i in range(len(model.ListOfModels)):\n",
        "    _ = plt.plot(x[idx == i], y[idx == i], '.', color = colors[i], label = 'model '+str(i))\n",
        "    \n",
        "    x0, y0, r = CIRCLE[i]\n",
        "    x_plot = x0 + r*np.sin(t)\n",
        "    y_plot = y0 + r*np.cos(t)\n",
        "    \n",
        "    _ = plt.plot(x_plot, y_plot, '-', color = colors[i])\n",
        "    \n",
        "plt.grid()\n",
        "\n",
        "plt.legend(loc = 'best')\n",
        "\n",
        "# plt.savefig('results/full_infomative.pdf', )\n",
        "\n",
        "plt.show()"
      ],
      "execution_count": 148,
      "outputs": [
        {
          "output_type": "display_data",
          "data": {
            "image/png": "[encoded data removed]",
            "text/plain": [
              "<Figure size 576x576 with 1 Axes>"
            ]
          },
          "metadata": {
            "tags": []
          }
        }
      ]
    },
    {
      "cell_type": "code",
      "metadata": {
        "id": "lTOVkmZzVl_7",
        "colab_type": "code",
        "colab": {}
      },
      "source": [
        ""
      ],
      "execution_count": 0,
      "outputs": []
    }
  ]
}