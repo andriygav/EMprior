{
 "cells": [
  {
   "cell_type": "code",
   "execution_count": 1,
   "metadata": {
    "colab": {},
    "colab_type": "code",
    "id": "RBlp1z6iK8PO"
   },
   "outputs": [],
   "source": [
    "import numpy as np\n",
    "\n",
    "import matplotlib.pyplot as plt\n",
    "\n",
    "import pandas as pd\n",
    "\n",
    "from matplotlib import gridspec\n",
    "\n",
    "from sklearn.preprocessing import scale\n",
    "\n",
    "\n",
    "\n",
    "import torch\n",
    "import torch.nn as nn\n",
    "import torch.nn.functional as F\n",
    "\n",
    "from torch.utils.data import DataLoader\n",
    "\n",
    "from torch.utils.data import Dataset\n",
    "\n",
    "from sklearn.utils import shuffle\n",
    "from scipy.special import softmax\n",
    "\n",
    "from PIL import Image\n",
    "\n",
    "from PIL import ImageDraw\n",
    "\n",
    "from skimage import morphology\n",
    "\n",
    "import math"
   ]
  },
  {
   "cell_type": "code",
   "execution_count": 2,
   "metadata": {
    "colab": {},
    "colab_type": "code",
    "id": "hiUXV6ADbH8e"
   },
   "outputs": [],
   "source": [
    "from tqdm import tqdm_notebook as tqdm"
   ]
  },
  {
   "cell_type": "code",
   "execution_count": 3,
   "metadata": {
    "colab": {},
    "colab_type": "code",
    "id": "pDSHRzJEK8PS"
   },
   "outputs": [],
   "source": [
    "plt.rcParams['lines.linewidth'] = 3\n",
    "plt.rcParams['lines.markersize'] = 6\n",
    "plt.rcParams['xtick.labelsize'] = 36\n",
    "plt.rcParams['ytick.labelsize'] = 36\n",
    "plt.rcParams['legend.fontsize'] = 36\n",
    "plt.rcParams['axes.titlesize']=36\n",
    "plt.rcParams['axes.labelsize']=36\n",
    "plt.rcParams['figure.figsize'] = (24.0, 12.0)\n",
    "plt.rcParams['font.size'] = 40\n",
    "\n",
    "plt.rcParams[\"font.family\"] = 'DejaVu Serif'\n",
    "\n",
    "plt.rcParams['text.usetex'] = False\n",
    "\n",
    "plt.rcParams['figure.figsize'] = (8.0, 8.0)"
   ]
  },
  {
   "cell_type": "code",
   "execution_count": 4,
   "metadata": {
    "colab": {},
    "colab_type": "code",
    "id": "8w-LMcCbMg7M"
   },
   "outputs": [],
   "source": [
    "from MixtureLib.Mixture import MixtureEM\n",
    "from MixtureLib.LocalModels import EachModelLinear\n",
    "from MixtureLib.HyperModels import HyperExpertNN\n",
    "\n",
    "from MixtureLib.Regularizers import RegularizeModel"
   ]
  },
  {
   "cell_type": "code",
   "execution_count": 5,
   "metadata": {
    "colab": {
     "base_uri": "https://localhost:8080/",
     "height": 34
    },
    "colab_type": "code",
    "id": "6XT724zzMh5e",
    "outputId": "3bc1b638-88f6-4776-a340-70000ed5c75d"
   },
   "outputs": [
    {
     "data": {
      "text/plain": [
       "device(type='cpu')"
      ]
     },
     "execution_count": 5,
     "metadata": {},
     "output_type": "execute_result"
    }
   ],
   "source": [
    "device = torch.device(\"cuda\" if torch.cuda.is_available() else \"cpu\")\n",
    "device"
   ]
  },
  {
   "cell_type": "markdown",
   "metadata": {
    "colab_type": "text",
    "id": "aLurSxN8K8PU"
   },
   "source": [
    "# All mixture of expert model"
   ]
  },
  {
   "cell_type": "markdown",
   "metadata": {
    "colab_type": "text",
    "id": "BdjYFOYjK8PX"
   },
   "source": [
    "# Experiment"
   ]
  },
  {
   "cell_type": "code",
   "execution_count": 6,
   "metadata": {
    "colab": {},
    "colab_type": "code",
    "id": "-aAkdjDsK8PX"
   },
   "outputs": [],
   "source": [
    "np.random.seed(0)\n",
    "N = 100\n",
    "N_noise=200\n",
    "n = 3\n",
    "r1 = 0.5\n",
    "r2 = 1.5\n",
    "phi = np.linspace(0, 2*np.pi, N)\n",
    "\n",
    "x0 = 0\n",
    "y0 = 0\n",
    "\n",
    "# x = np.hstack([r1*np.sin(phi) + x0, r2*np.sin(phi) + x0])\n",
    "x = np.hstack([r1*np.sin(phi) + x0, r2*np.sin(phi) + x0, 4*(np.random.rand(N_noise)-0.5) + x0])\n",
    "x += 0.1*np.random.randn(x.shape[0])\n",
    "# y = np.hstack([r1*np.cos(phi) + y0, r2*np.cos(phi) + y0])\n",
    "y = np.hstack([r1*np.cos(phi) + y0, r2*np.cos(phi) + y0, 4*(np.random.rand(N_noise)-0.5) + y0])\n",
    "y += 0.1*np.random.randn(y.shape[0])\n",
    "\n"
   ]
  },
  {
   "cell_type": "code",
   "execution_count": 7,
   "metadata": {},
   "outputs": [],
   "source": [
    "image = Image.open('Picture/1.tif')\n",
    "\n",
    "mask_1 = Image.open('Picture/1_mask_2.jpg').convert('L')\n",
    "mask_1 = Image.fromarray((255*(np.array(mask_1) > 125)).astype(np.uint8))"
   ]
  },
  {
   "cell_type": "code",
   "execution_count": 8,
   "metadata": {},
   "outputs": [],
   "source": [
    "x = np.array(np.where(np.array(mask_1) > 0)[1], dtype = np.float)\n",
    "y = np.array(mask_1.size[0]-np.where(np.array(mask_1) > 0)[0], dtype = np.float)\n",
    "\n",
    "x = scale(x)\n",
    "y = scale(y)\n",
    "\n",
    "x, y = shuffle(x, y, random_state = 0)\n",
    "\n",
    "x = x[:200]\n",
    "y = y[:200]"
   ]
  },
  {
   "cell_type": "code",
   "execution_count": 9,
   "metadata": {
    "colab": {
     "base_uri": "https://localhost:8080/",
     "height": 499
    },
    "colab_type": "code",
    "id": "drJa0LZcK8PZ",
    "outputId": "f53898dd-8986-4ce7-b3d6-8c0ba77e4d87"
   },
   "outputs": [
    {
     "data": {
      "image/png": "[encoded data removed]",
      "text/plain": [
       "<Figure size 576x576 with 1 Axes>"
      ]
     },
     "metadata": {},
     "output_type": "display_data"
    }
   ],
   "source": [
    "plt.plot(x, y, '.')\n",
    "\n",
    "plt.grid()\n",
    "\n",
    "plt.show()"
   ]
  },
  {
   "cell_type": "code",
   "execution_count": 10,
   "metadata": {
    "colab": {},
    "colab_type": "code",
    "id": "VokV8TmxK8Pd"
   },
   "outputs": [],
   "source": [
    "X = np.vstack([x, y, np.ones_like(x)]).T\n",
    "Y = x**2+y**2"
   ]
  },
  {
   "cell_type": "code",
   "execution_count": 11,
   "metadata": {
    "colab": {
     "base_uri": "https://localhost:8080/",
     "height": 34
    },
    "colab_type": "code",
    "id": "8F9WFj5DK8Ph",
    "outputId": "1f3e2c1d-1293-46c5-ea5a-826da8ac655d"
   },
   "outputs": [
    {
     "data": {
      "text/plain": [
       "(torch.Size([200, 3]), torch.Size([200, 1]))"
      ]
     },
     "execution_count": 11,
     "metadata": {},
     "output_type": "execute_result"
    }
   ],
   "source": [
    "X_tr = torch.FloatTensor(X)\n",
    "Y_tr = torch.FloatTensor(Y).view([-1,1])\n",
    "\n",
    "X_tr.shape, Y_tr.shape"
   ]
  },
  {
   "cell_type": "code",
   "execution_count": 12,
   "metadata": {
    "colab": {},
    "colab_type": "code",
    "id": "KESebBCnK8Pj"
   },
   "outputs": [],
   "source": [
    "K = 2\n",
    "LIST_A = [torch.Tensor([1, 1, 1]) for _ in range(K)]\n",
    "LIST_w = [torch.Tensor([[0], [0], [1]]), torch.Tensor([[0], [0], [2]])]\n",
    "\n",
    "\n",
    "LoM = []\n",
    "for k in range(K):\n",
    "#     LoM.append(EachModelLinear(input_dim = n, device = device))\n",
    "    LoM.append(EachModelLinear(input_dim = n, device = device, A = torch.ones(3)*LIST_A[k], w = torch.ones(3,1)*LIST_w[k]))\n",
    "\n",
    "# K += 1\n",
    "# LoM.append(RegularizeModel(ListOfModels = LoM))\n",
    "\n",
    "HypPar = {'beta': 1.0, 'alpha': 1e-5}\n",
    "\n",
    "HpMd = HyperExpertNN(input_dim = n, hidden_dim = 5, output_dim = K, device = device, epochs=1000)\n",
    "\n",
    "Rg = RegularizeModel(ListOfModels = LoM, device=device)\n",
    "\n",
    "model = MixtureEM(input_dim = n, K = K, HyperParameters = HypPar, HyperModel = HpMd, ListOfModels = LoM, ListOfRegularizeModel = [Rg], device = device)\n",
    "# model = MixtureEM(input_dim = n, K = K, HyperParameters = HypPar, HyperModel = HpMd, ListOfModels = LoM, ListOfRegularizeModel = [], device = device)\n",
    "\n",
    "\n",
    "\n"
   ]
  },
  {
   "cell_type": "code",
   "execution_count": 13,
   "metadata": {
    "colab": {
     "base_uri": "https://localhost:8080/",
     "height": 68
    },
    "colab_type": "code",
    "id": "A7IN-BorK8Pl",
    "outputId": "428b08c1-8cc7-4115-bd48-468ee96d4b76"
   },
   "outputs": [
    {
     "data": {
      "application/vnd.jupyter.widget-view+json": {
       "model_id": "2f74e2f413fb4dd0931ed4c7ac3b3279",
       "version_major": 2,
       "version_minor": 0
      },
      "text/plain": [
       "HBox(children=(IntProgress(value=0, max=25), HTML(value='')))"
      ]
     },
     "metadata": {},
     "output_type": "display_data"
    },
    {
     "name": "stdout",
     "output_type": "stream",
     "text": [
      "\n",
      "CPU times: user 1min 6s, sys: 1.12 s, total: 1min 7s\n",
      "Wall time: 1min 9s\n"
     ]
    }
   ],
   "source": [
    "%%time\n",
    "model.fit(X_tr, Y_tr, 25, progress = tqdm)"
   ]
  },
  {
   "cell_type": "code",
   "execution_count": 14,
   "metadata": {
    "colab": {
     "base_uri": "https://localhost:8080/",
     "height": 34
    },
    "colab_type": "code",
    "id": "hYtKfjePwayv",
    "outputId": "851538ec-9b1b-4fc4-e6e6-3d37ccd3f78c"
   },
   "outputs": [
    {
     "data": {
      "text/plain": [
       "{'beta': tensor(0.1024), 'alpha': tensor(1.0000e-05)}"
      ]
     },
     "execution_count": 14,
     "metadata": {},
     "output_type": "execute_result"
    }
   ],
   "source": [
    "model.HyperParameters"
   ]
  },
  {
   "cell_type": "code",
   "execution_count": 15,
   "metadata": {
    "colab": {
     "base_uri": "https://localhost:8080/",
     "height": 51
    },
    "colab_type": "code",
    "id": "3hH7A0EjK8Pr",
    "outputId": "94462874-d223-4e0a-cb4b-c1d2f39bceed"
   },
   "outputs": [
    {
     "name": "stdout",
     "output_type": "stream",
     "text": [
      "tensor([0.0395, 0.0082, 2.0078])\n",
      "tensor([0.0873, 0.0000, 0.5419])\n"
     ]
    }
   ],
   "source": [
    "print(model.ListOfModels[0].A)\n",
    "\n",
    "print(model.ListOfModels[1].A)"
   ]
  },
  {
   "cell_type": "code",
   "execution_count": 16,
   "metadata": {
    "colab": {
     "base_uri": "https://localhost:8080/",
     "height": 119
    },
    "colab_type": "code",
    "id": "OA1aw4usaLZI",
    "outputId": "1bd60970-3537-49bd-d73d-550fb79522db"
   },
   "outputs": [
    {
     "name": "stdout",
     "output_type": "stream",
     "text": [
      "tensor([[ 0.0264, -0.0005, -0.0013],\n",
      "        [-0.0005,  0.0080,  0.0007],\n",
      "        [-0.0013,  0.0007,  0.0039]])\n",
      "tensor([[ 5.5122e-04, -2.2098e-06,  9.9081e-06],\n",
      "        [-2.2098e-06,  2.4060e-05, -7.7513e-08],\n",
      "        [ 9.9081e-06, -7.7513e-08,  5.9168e-04]])\n"
     ]
    }
   ],
   "source": [
    "print(model.ListOfModels[0].B)\n",
    "\n",
    "print(model.ListOfModels[1].B)"
   ]
  },
  {
   "cell_type": "code",
   "execution_count": 17,
   "metadata": {
    "colab": {
     "base_uri": "https://localhost:8080/",
     "height": 119
    },
    "colab_type": "code",
    "id": "WCdcfZXPWd9T",
    "outputId": "b82521d2-d40b-477a-ee23-6ee8dd4cc949"
   },
   "outputs": [
    {
     "name": "stdout",
     "output_type": "stream",
     "text": [
      "tensor([[-0.0003],\n",
      "        [ 0.0004],\n",
      "        [ 1.5001]])\n",
      "tensor([[-0.0003],\n",
      "        [ 0.0004],\n",
      "        [ 1.5001]])\n"
     ]
    }
   ],
   "source": [
    "print(model.ListOfModels[0].w_0)\n",
    "\n",
    "print(model.ListOfModels[1].w_0)"
   ]
  },
  {
   "cell_type": "code",
   "execution_count": 18,
   "metadata": {
    "colab": {
     "base_uri": "https://localhost:8080/",
     "height": 499
    },
    "colab_type": "code",
    "id": "w-faxN7mK8Pt",
    "outputId": "627a13a8-cd69-4041-9efb-130e682a8a03"
   },
   "outputs": [
    {
     "data": {
      "image/png": "[encoded data removed]",
      "text/plain": [
       "<Figure size 576x576 with 1 Axes>"
      ]
     },
     "metadata": {},
     "output_type": "display_data"
    }
   ],
   "source": [
    "Text_size = 24\n",
    "\n",
    "plt.rcParams['lines.linewidth'] = 1\n",
    "plt.rcParams['lines.markersize'] = 4\n",
    "plt.rcParams['xtick.labelsize'] = Text_size\n",
    "plt.rcParams['ytick.labelsize'] = Text_size\n",
    "plt.rcParams['legend.fontsize'] = Text_size\n",
    "plt.rcParams['axes.titlesize']=Text_size\n",
    "plt.rcParams['axes.labelsize']=Text_size\n",
    "plt.rcParams['figure.figsize'] = (8.0, 8.0)\n",
    "plt.rcParams['font.size'] = Text_size\n",
    "plt.rcParams[\"legend.labelspacing\"] = 0.1\n",
    "plt.rcParams[\"legend.handletextpad\"] = 0.1\n",
    "#################################################\n",
    "\n",
    "idx = np.argmax(model.predict(X_tr)[1], axis = 1)\n",
    "t = np.linspace(0, 2*np.pi, 100)\n",
    "\n",
    "colors = ['orange', 'green', 'red', 'yellow', 'blue']\n",
    "\n",
    "for i in np.unique(idx):\n",
    "    _ = plt.plot(x[idx == i], y[idx == i], '.', color = colors[i])\n",
    "    \n",
    "plt.grid()\n",
    "plt.show()"
   ]
  },
  {
   "cell_type": "code",
   "execution_count": 19,
   "metadata": {
    "colab": {
     "base_uri": "https://localhost:8080/",
     "height": 51
    },
    "colab_type": "code",
    "id": "xmoEZ_MiK8Pv",
    "outputId": "6fd21cc6-26ea-4c8e-ec25-31638807b7df"
   },
   "outputs": [
    {
     "data": {
      "text/plain": [
       "array([[-1.1470563e-01, -1.2074286e-02,  8.4548853e-02],\n",
       "       [-2.9492018e-01,  5.7071779e-04,  2.2358835e+00]], dtype=float32)"
      ]
     },
     "execution_count": 19,
     "metadata": {},
     "output_type": "execute_result"
    }
   ],
   "source": [
    "TEMP = np.array([m.W.data.numpy().reshape(-1) for m in model.ListOfModels])\n",
    "\n",
    "TEMP"
   ]
  },
  {
   "cell_type": "code",
   "execution_count": 20,
   "metadata": {
    "colab": {
     "base_uri": "https://localhost:8080/",
     "height": 51
    },
    "colab_type": "code",
    "id": "5SQUfzY8K8Px",
    "outputId": "d543e4a8-c5ac-4dcd-dec1-63b68b98092a"
   },
   "outputs": [
    {
     "data": {
      "text/plain": [
       "array([[-5.7352815e-02, -6.0371431e-03,  2.9643658e-01],\n",
       "       [-1.4746009e-01,  2.8535890e-04,  1.5025405e+00]], dtype=float32)"
      ]
     },
     "execution_count": 20,
     "metadata": {},
     "output_type": "execute_result"
    }
   ],
   "source": [
    "CIRCLE = np.zeros_like(TEMP)\n",
    "\n",
    "for i, param in enumerate(TEMP):\n",
    "    x0, y0 = 0.5*param[:2]\n",
    "    r = (param[2] + x0**2 + y0**2)**0.5\n",
    "    CIRCLE[i] = x0, y0, r\n",
    "    \n",
    "CIRCLE"
   ]
  },
  {
   "cell_type": "code",
   "execution_count": 21,
   "metadata": {
    "colab": {
     "base_uri": "https://localhost:8080/",
     "height": 499
    },
    "colab_type": "code",
    "id": "HRSmVOOWK8Pz",
    "outputId": "180fcdda-01bd-4760-cf2a-f2df8eca9de1"
   },
   "outputs": [
    {
     "data": {
      "image/png": "[encoded data removed]",
      "text/plain": [
       "<Figure size 576x576 with 1 Axes>"
      ]
     },
     "metadata": {},
     "output_type": "display_data"
    }
   ],
   "source": [
    "Text_size = 24\n",
    "\n",
    "plt.rcParams['lines.linewidth'] = 1\n",
    "plt.rcParams['lines.markersize'] = 4\n",
    "plt.rcParams['xtick.labelsize'] = Text_size\n",
    "plt.rcParams['ytick.labelsize'] = Text_size\n",
    "plt.rcParams['legend.fontsize'] = Text_size\n",
    "plt.rcParams['axes.titlesize']=Text_size\n",
    "plt.rcParams['axes.labelsize']=Text_size\n",
    "plt.rcParams['figure.figsize'] = (8.0, 8.0)\n",
    "plt.rcParams['font.size'] = Text_size\n",
    "plt.rcParams[\"legend.labelspacing\"] = 0.1\n",
    "plt.rcParams[\"legend.handletextpad\"] = 0.1\n",
    "#################################################\n",
    "\n",
    "idx = np.argmax(model.predict(X_tr)[1], axis = 1)\n",
    "t = np.linspace(0, 2*np.pi, 100)\n",
    "\n",
    "colors = ['orange', 'green', 'red', 'yellow', 'blue']\n",
    "\n",
    "for i in range(len(model.ListOfModels)):\n",
    "    _ = plt.plot(x[idx == i], y[idx == i], '.', color = colors[i], label = 'model '+str(i))\n",
    "    \n",
    "    x0, y0, r = CIRCLE[i]\n",
    "    x_plot = x0 + r*np.sin(t)\n",
    "    y_plot = y0 + r*np.cos(t)\n",
    "    \n",
    "    _ = plt.plot(x_plot, y_plot, '-', color = colors[i])\n",
    "    \n",
    "plt.grid()\n",
    "\n",
    "plt.legend(loc = 'best')\n",
    "\n",
    "plt.show()"
   ]
  },
  {
   "cell_type": "code",
   "execution_count": null,
   "metadata": {},
   "outputs": [],
   "source": []
  },
  {
   "cell_type": "code",
   "execution_count": null,
   "metadata": {},
   "outputs": [],
   "source": []
  }
 ],
 "metadata": {
  "colab": {
   "name": "new_main.ipynb",
   "provenance": []
  },
  "kernelspec": {
   "display_name": "Python 3",
   "language": "python",
   "name": "python3"
  },
  "language_info": {
   "codemirror_mode": {
    "name": "ipython",
    "version": 3
   },
   "file_extension": ".py",
   "mimetype": "text/x-python",
   "name": "python",
   "nbconvert_exporter": "python",
   "pygments_lexer": "ipython3",
   "version": "3.6.2"
  }
 },
 "nbformat": 4,
 "nbformat_minor": 1
}
