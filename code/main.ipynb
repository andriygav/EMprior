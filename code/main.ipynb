{
 "cells": [
  {
   "cell_type": "code",
   "execution_count": 1,
   "metadata": {},
   "outputs": [],
   "source": [
    "import numpy as np\n",
    "\n",
    "import matplotlib.pyplot as plt"
   ]
  },
  {
   "cell_type": "code",
   "execution_count": 2,
   "metadata": {},
   "outputs": [],
   "source": [
    "from scipy.special import softmax"
   ]
  },
  {
   "cell_type": "code",
   "execution_count": 3,
   "metadata": {},
   "outputs": [],
   "source": [
    "from scipy.optimize import minimize"
   ]
  },
  {
   "cell_type": "code",
   "execution_count": 4,
   "metadata": {},
   "outputs": [],
   "source": [
    "from sklearn.utils import shuffle"
   ]
  },
  {
   "cell_type": "code",
   "execution_count": 5,
   "metadata": {},
   "outputs": [],
   "source": [
    "from sklearn.linear_model import LogisticRegression"
   ]
  },
  {
   "cell_type": "code",
   "execution_count": 6,
   "metadata": {},
   "outputs": [],
   "source": [
    "plt.rcParams['figure.figsize'] = (8.0, 8.0)"
   ]
  },
  {
   "cell_type": "code",
   "execution_count": 7,
   "metadata": {},
   "outputs": [],
   "source": [
    "class MixtureExpert:\n",
    "    def __init__(self, n = 10, K = 2, beta = 1):\n",
    "        self.K = K\n",
    "        self.n = n\n",
    "        \n",
    "        self.beta = beta\n",
    "        self.W = 0.001*np.random.randn(self.K, self.n)\n",
    "        self.V = 0.001*np.random.randn(self.K, self.n)\n",
    "        self.pZ = None\n",
    "        \n",
    "        self.state = dict()\n",
    "       \n",
    "    def dFdV(self, X):\n",
    "        N = X.shape[0]\n",
    "        grad = np.zeros_like(self.V)\n",
    "        Temp = softmax(X@self.V.T, axis = 1)\n",
    "        for i in range(N):\n",
    "            x = X[i]\n",
    "            temp = Temp[i]\n",
    "            grad += (np.reshape(self.pZ[i], [-1, 1])@np.reshape(x, [1, -1]) - np.reshape(temp, [-1, 1])@np.reshape(x, [1, -1]))\n",
    "        return grad\n",
    "        \n",
    "    def E_step(self, X, Y):\n",
    "        N = X.shape[0]\n",
    "        self.pZ = np.zeros([N, self.K])\n",
    "        for i in range(N):\n",
    "            x = X[i]\n",
    "            y = Y[i]\n",
    "            self.pZ[i] = softmax(self.V@x - 0.5*self.beta*((y - self.W@x)**2), axis=0)\n",
    "    \n",
    "    def M_step(self, X, Y):\n",
    "        N = X.shape[0]\n",
    "# Optimize W\n",
    "        for k in range(self.K):\n",
    "            temp1 = 0\n",
    "            temp2 = 0\n",
    "            for i in range(N):\n",
    "                x = X[i]\n",
    "                y = Y[i]\n",
    "                z = self.pZ[i][k]\n",
    "                temp1 += np.reshape(x, [-1, 1])@np.reshape(x, [1, -1])*z\n",
    "                temp2 += y*z*x\n",
    "            self.W[k] = np.reshape(np.linalg.inv(temp1)@np.reshape(temp2, [-1, 1]), [-1])\n",
    "\n",
    "# Optimize \\beta\n",
    "        param_state = self.state['beta']\n",
    "        temp = 0\n",
    "        for i in range(N):\n",
    "            x = X[i]\n",
    "            y = Y[i]\n",
    "            z = self.pZ[i]\n",
    "            temp += (((y - self.W@x)**2)*z).sum()\n",
    "        self.beta = N/(temp+param_state['epsilon'])\n",
    "            \n",
    "# Optimize V\n",
    "        param_state = self.state['V']\n",
    "        alpha = param_state['alpha']\n",
    "        momentum = param_state['momentum']\n",
    "        dampening = param_state['dampening']\n",
    "        for _ in range(100):\n",
    "            grad = self.dFdV(X)\n",
    "            if momentum != 0:\n",
    "                if 'momentum_buffer' not in param_state:\n",
    "                    param_state['momentum_buffer'] = np.array(grad)\n",
    "                else:\n",
    "                    param_state['momentum_buffer'] = momentum*param_state['momentum_buffer'] + (1 - dampening)*grad\n",
    "                grad = param_state['momentum_buffer']\n",
    "            self.V += alpha*grad\n",
    "        \n",
    "        \n",
    "\n",
    "    def fit(self, X = None, Y = None, epoch = 10, epsilon = 0.00001, alpha = 0.01, momentum = 0, dampening = 0):\n",
    "        \"\"\"\n",
    "        X has a shape [N x n]\n",
    "        Y has a shape [n]\n",
    "        \"\"\"\n",
    "        if X is None:\n",
    "            return None\n",
    "        if y is None:\n",
    "            return None\n",
    "        \n",
    "        if 'V' not in self.state:\n",
    "            self.state['V'] = dict()\n",
    "        if 'W' not in self.state:\n",
    "            self.state['W'] = dict()\n",
    "        if 'beta' not in self.state:\n",
    "            self.state['beta'] = dict()\n",
    "        self.state['V']['alpha'] = alpha\n",
    "        self.state['V']['momentum'] = momentum\n",
    "        self.state['V']['dampening'] = dampening\n",
    "        \n",
    "        self.state['beta']['epsilon'] = epsilon\n",
    "        \n",
    "        for _ in range(epoch):\n",
    "            self.E_step(X, Y)\n",
    "            self.M_step(X, Y)\n",
    "            \n",
    "        return\n",
    "    \n",
    "    def predict(self, X):\n",
    "        \"\"\"\n",
    "        X has a shape [N x n]\n",
    "        \"\"\"\n",
    "        pi = softmax(X@self.V.T, axis = 1)\n",
    "        \n",
    "        answ = (X@self.W.T) \n",
    "        \n",
    "        return (answ*pi).sum(axis = 1)"
   ]
  },
  {
   "cell_type": "code",
   "execution_count": 8,
   "metadata": {},
   "outputs": [],
   "source": [
    "# def func(x):\n",
    "#     if np.round(x)%2 == 0:\n",
    "#         return -x\n",
    "#     else:\n",
    "#         return x\n",
    "\n",
    "# N = 1000\n",
    "# n = 1\n",
    "# x = np.linspace(-10, 10, N)\n",
    "# y = np.array(list(map(func, x))) + 0.1*np.random.randn(N)\n",
    "# x, y = shuffle(x, y)\n",
    "\n",
    "# X = np.reshape(x, [-1, 1])\n",
    "# Y = y"
   ]
  },
  {
   "cell_type": "code",
   "execution_count": 9,
   "metadata": {},
   "outputs": [],
   "source": [
    "N = 500\n",
    "n = 3\n",
    "r1 = 1\n",
    "r2 = 2\n",
    "phi = np.linspace(0, 2*np.pi, N)\n",
    "x = np.hstack([r1*np.sin(phi), r2*np.sin(phi)])\n",
    "y = np.hstack([r1*np.cos(phi), r2*np.cos(phi)])\n",
    "x, y = shuffle(x, y)\n",
    "\n",
    "X = np.vstack([2*x, 2*y, np.ones_like(x)]).T\n",
    "Y = x**2+y**2"
   ]
  },
  {
   "cell_type": "code",
   "execution_count": 10,
   "metadata": {},
   "outputs": [
    {
     "data": {
      "text/plain": [
       "((1000, 3), (1000,))"
      ]
     },
     "execution_count": 10,
     "metadata": {},
     "output_type": "execute_result"
    }
   ],
   "source": [
    "X.shape, Y.shape"
   ]
  },
  {
   "cell_type": "code",
   "execution_count": 11,
   "metadata": {},
   "outputs": [
    {
     "data": {
      "image/png": "[encoded data removed]",
      "text/plain": [
       "<Figure size 576x576 with 1 Axes>"
      ]
     },
     "metadata": {},
     "output_type": "display_data"
    }
   ],
   "source": [
    "_ = plt.plot(x, y, '.')\n",
    "\n",
    "plt.grid()\n",
    "plt.show()"
   ]
  },
  {
   "cell_type": "code",
   "execution_count": 12,
   "metadata": {},
   "outputs": [],
   "source": [
    "model = MixtureExpert(n = n, K = 2, beta = 1)"
   ]
  },
  {
   "cell_type": "code",
   "execution_count": 13,
   "metadata": {},
   "outputs": [],
   "source": [
    "model.fit(X, Y, epoch = 10, alpha = 0.1, momentum = 0.99)"
   ]
  },
  {
   "cell_type": "code",
   "execution_count": 14,
   "metadata": {},
   "outputs": [],
   "source": [
    "answ = model.predict(X)"
   ]
  },
  {
   "cell_type": "code",
   "execution_count": 15,
   "metadata": {},
   "outputs": [
    {
     "data": {
      "text/plain": [
       "1.5734961551627986"
      ]
     },
     "execution_count": 15,
     "metadata": {},
     "output_type": "execute_result"
    }
   ],
   "source": [
    "((answ - Y)**2).mean()"
   ]
  },
  {
   "cell_type": "code",
   "execution_count": 16,
   "metadata": {},
   "outputs": [
    {
     "data": {
      "text/plain": [
       "array([[-0.83376536, -0.34630454,  0.61227244],\n",
       "       [ 0.5100008 ,  0.21331758,  1.53827713]])"
      ]
     },
     "execution_count": 16,
     "metadata": {},
     "output_type": "execute_result"
    }
   ],
   "source": [
    "model.W"
   ]
  },
  {
   "cell_type": "code",
   "execution_count": 17,
   "metadata": {},
   "outputs": [
    {
     "data": {
      "text/plain": [
       "array([[-14588.32324467,  -5971.14012105,  -9618.71016261],\n",
       "       [ 14588.3231264 ,   5971.14031577,   9618.70775857]])"
      ]
     },
     "execution_count": 17,
     "metadata": {},
     "output_type": "execute_result"
    }
   ],
   "source": [
    "model.V"
   ]
  },
  {
   "cell_type": "code",
   "execution_count": 18,
   "metadata": {},
   "outputs": [
    {
     "data": {
      "text/plain": [
       "0.6355274465486469"
      ]
     },
     "execution_count": 18,
     "metadata": {},
     "output_type": "execute_result"
    }
   ],
   "source": [
    "model.beta"
   ]
  },
  {
   "cell_type": "code",
   "execution_count": 19,
   "metadata": {},
   "outputs": [
    {
     "data": {
      "text/plain": [
       "array([[ 2.97910814e-12, -4.95375038e-12, -1.44513685e-12],\n",
       "       [-2.97717406e-12,  4.95070651e-12,  1.44417811e-12]])"
      ]
     },
     "execution_count": 19,
     "metadata": {},
     "output_type": "execute_result"
    }
   ],
   "source": [
    "model.dFdV(X)"
   ]
  },
  {
   "cell_type": "code",
   "execution_count": 20,
   "metadata": {},
   "outputs": [],
   "source": [
    "pi = softmax(X@model.V.T, axis = 1)"
   ]
  },
  {
   "cell_type": "code",
   "execution_count": 21,
   "metadata": {},
   "outputs": [
    {
     "data": {
      "image/png": "[encoded data removed]",
      "text/plain": [
       "<Figure size 576x576 with 1 Axes>"
      ]
     },
     "metadata": {},
     "output_type": "display_data"
    }
   ],
   "source": [
    "idx = np.argmax(model.pZ, axis = 1)\n",
    "for i in np.unique(idx):\n",
    "    _ = plt.plot(x[idx == i], y[idx == i], '.')\n",
    "\n",
    "plt.grid()\n",
    "plt.show()"
   ]
  },
  {
   "cell_type": "code",
   "execution_count": null,
   "metadata": {},
   "outputs": [],
   "source": []
  }
 ],
 "metadata": {
  "kernelspec": {
   "display_name": "Python 3",
   "language": "python",
   "name": "python3"
  },
  "language_info": {
   "codemirror_mode": {
    "name": "ipython",
    "version": 3
   },
   "file_extension": ".py",
   "mimetype": "text/x-python",
   "name": "python",
   "nbconvert_exporter": "python",
   "pygments_lexer": "ipython3",
   "version": "3.6.2"
  }
 },
 "nbformat": 4,
 "nbformat_minor": 2
}
